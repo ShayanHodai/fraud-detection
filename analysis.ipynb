{
 "cells": [
  {
   "cell_type": "markdown",
   "metadata": {
    "id": "AfWOoaaUhnTV"
   },
   "source": [
    "# **Objective**\n",
    "\n",
    "The objective of this analysis is to develop a robust and accurate machine learning model for detecting credit card fraud. This involves predicting whether a given credit card transaction is fraudulent based on a set of features extracted from transaction data.\n",
    "\n",
    "**supervised classification task**"
   ]
  },
  {
   "cell_type": "markdown",
   "metadata": {
    "id": "3ku5i-hwiFy3"
   },
   "source": [
    "# 1. Get data"
   ]
  },
  {
   "cell_type": "code",
   "execution_count": 173,
   "metadata": {
    "colab": {
     "base_uri": "https://localhost:8080/"
    },
    "id": "bjdt3xyCkcwI",
    "outputId": "fc13ebdb-3615-4044-c7d9-75d46fe809c1"
   },
   "outputs": [],
   "source": [
    "\"\"\"!mkdir {the project directory on your pc}/kaggle\n",
    "!cp kaggle.json {the project directory on your pc}/kaggle/\n",
    "!chmod 600 {the project directory on your pc}/kaggle/kaggle.json\n",
    "!kaggle datasets download -d mlg-ulb/creditcardfraud\n",
    "!unzip creditcardfraud.zip\"\"\"\n",
    "# create the project directory on your pc\n",
    "import warnings\n",
    "warnings.filterwarnings(\"ignore\")"
   ]
  },
  {
   "cell_type": "markdown",
   "metadata": {
    "id": "mv95ukluiWia"
   },
   "source": [
    "# 2. Explore data"
   ]
  },
  {
   "cell_type": "markdown",
   "metadata": {
    "id": "SESbwxX8id7g"
   },
   "source": [
    "## 2.1 Dataset information and types"
   ]
  },
  {
   "cell_type": "code",
   "execution_count": 174,
   "metadata": {
    "colab": {
     "base_uri": "https://localhost:8080/",
     "height": 255
    },
    "id": "q2VjoL4tesqJ",
    "outputId": "4ea9e002-40b0-4a07-cb63-ad642fed9785"
   },
   "outputs": [
    {
     "data": {
      "text/html": [
       "<div>\n",
       "<style scoped>\n",
       "    .dataframe tbody tr th:only-of-type {\n",
       "        vertical-align: middle;\n",
       "    }\n",
       "\n",
       "    .dataframe tbody tr th {\n",
       "        vertical-align: top;\n",
       "    }\n",
       "\n",
       "    .dataframe thead th {\n",
       "        text-align: right;\n",
       "    }\n",
       "</style>\n",
       "<table border=\"1\" class=\"dataframe\">\n",
       "  <thead>\n",
       "    <tr style=\"text-align: right;\">\n",
       "      <th></th>\n",
       "      <th>Time</th>\n",
       "      <th>V1</th>\n",
       "      <th>V2</th>\n",
       "      <th>V3</th>\n",
       "      <th>V4</th>\n",
       "      <th>V5</th>\n",
       "      <th>V6</th>\n",
       "      <th>V7</th>\n",
       "      <th>V8</th>\n",
       "      <th>V9</th>\n",
       "      <th>...</th>\n",
       "      <th>V21</th>\n",
       "      <th>V22</th>\n",
       "      <th>V23</th>\n",
       "      <th>V24</th>\n",
       "      <th>V25</th>\n",
       "      <th>V26</th>\n",
       "      <th>V27</th>\n",
       "      <th>V28</th>\n",
       "      <th>Amount</th>\n",
       "      <th>Class</th>\n",
       "    </tr>\n",
       "  </thead>\n",
       "  <tbody>\n",
       "    <tr>\n",
       "      <th>0</th>\n",
       "      <td>0.0</td>\n",
       "      <td>-1.359807</td>\n",
       "      <td>-0.072781</td>\n",
       "      <td>2.536347</td>\n",
       "      <td>1.378155</td>\n",
       "      <td>-0.338321</td>\n",
       "      <td>0.462388</td>\n",
       "      <td>0.239599</td>\n",
       "      <td>0.098698</td>\n",
       "      <td>0.363787</td>\n",
       "      <td>...</td>\n",
       "      <td>-0.018307</td>\n",
       "      <td>0.277838</td>\n",
       "      <td>-0.110474</td>\n",
       "      <td>0.066928</td>\n",
       "      <td>0.128539</td>\n",
       "      <td>-0.189115</td>\n",
       "      <td>0.133558</td>\n",
       "      <td>-0.021053</td>\n",
       "      <td>149.62</td>\n",
       "      <td>0</td>\n",
       "    </tr>\n",
       "    <tr>\n",
       "      <th>1</th>\n",
       "      <td>0.0</td>\n",
       "      <td>1.191857</td>\n",
       "      <td>0.266151</td>\n",
       "      <td>0.166480</td>\n",
       "      <td>0.448154</td>\n",
       "      <td>0.060018</td>\n",
       "      <td>-0.082361</td>\n",
       "      <td>-0.078803</td>\n",
       "      <td>0.085102</td>\n",
       "      <td>-0.255425</td>\n",
       "      <td>...</td>\n",
       "      <td>-0.225775</td>\n",
       "      <td>-0.638672</td>\n",
       "      <td>0.101288</td>\n",
       "      <td>-0.339846</td>\n",
       "      <td>0.167170</td>\n",
       "      <td>0.125895</td>\n",
       "      <td>-0.008983</td>\n",
       "      <td>0.014724</td>\n",
       "      <td>2.69</td>\n",
       "      <td>0</td>\n",
       "    </tr>\n",
       "    <tr>\n",
       "      <th>2</th>\n",
       "      <td>1.0</td>\n",
       "      <td>-1.358354</td>\n",
       "      <td>-1.340163</td>\n",
       "      <td>1.773209</td>\n",
       "      <td>0.379780</td>\n",
       "      <td>-0.503198</td>\n",
       "      <td>1.800499</td>\n",
       "      <td>0.791461</td>\n",
       "      <td>0.247676</td>\n",
       "      <td>-1.514654</td>\n",
       "      <td>...</td>\n",
       "      <td>0.247998</td>\n",
       "      <td>0.771679</td>\n",
       "      <td>0.909412</td>\n",
       "      <td>-0.689281</td>\n",
       "      <td>-0.327642</td>\n",
       "      <td>-0.139097</td>\n",
       "      <td>-0.055353</td>\n",
       "      <td>-0.059752</td>\n",
       "      <td>378.66</td>\n",
       "      <td>0</td>\n",
       "    </tr>\n",
       "    <tr>\n",
       "      <th>3</th>\n",
       "      <td>1.0</td>\n",
       "      <td>-0.966272</td>\n",
       "      <td>-0.185226</td>\n",
       "      <td>1.792993</td>\n",
       "      <td>-0.863291</td>\n",
       "      <td>-0.010309</td>\n",
       "      <td>1.247203</td>\n",
       "      <td>0.237609</td>\n",
       "      <td>0.377436</td>\n",
       "      <td>-1.387024</td>\n",
       "      <td>...</td>\n",
       "      <td>-0.108300</td>\n",
       "      <td>0.005274</td>\n",
       "      <td>-0.190321</td>\n",
       "      <td>-1.175575</td>\n",
       "      <td>0.647376</td>\n",
       "      <td>-0.221929</td>\n",
       "      <td>0.062723</td>\n",
       "      <td>0.061458</td>\n",
       "      <td>123.50</td>\n",
       "      <td>0</td>\n",
       "    </tr>\n",
       "    <tr>\n",
       "      <th>4</th>\n",
       "      <td>2.0</td>\n",
       "      <td>-1.158233</td>\n",
       "      <td>0.877737</td>\n",
       "      <td>1.548718</td>\n",
       "      <td>0.403034</td>\n",
       "      <td>-0.407193</td>\n",
       "      <td>0.095921</td>\n",
       "      <td>0.592941</td>\n",
       "      <td>-0.270533</td>\n",
       "      <td>0.817739</td>\n",
       "      <td>...</td>\n",
       "      <td>-0.009431</td>\n",
       "      <td>0.798278</td>\n",
       "      <td>-0.137458</td>\n",
       "      <td>0.141267</td>\n",
       "      <td>-0.206010</td>\n",
       "      <td>0.502292</td>\n",
       "      <td>0.219422</td>\n",
       "      <td>0.215153</td>\n",
       "      <td>69.99</td>\n",
       "      <td>0</td>\n",
       "    </tr>\n",
       "  </tbody>\n",
       "</table>\n",
       "<p>5 rows × 31 columns</p>\n",
       "</div>"
      ],
      "text/plain": [
       "   Time        V1        V2        V3        V4        V5        V6        V7  \\\n",
       "0   0.0 -1.359807 -0.072781  2.536347  1.378155 -0.338321  0.462388  0.239599   \n",
       "1   0.0  1.191857  0.266151  0.166480  0.448154  0.060018 -0.082361 -0.078803   \n",
       "2   1.0 -1.358354 -1.340163  1.773209  0.379780 -0.503198  1.800499  0.791461   \n",
       "3   1.0 -0.966272 -0.185226  1.792993 -0.863291 -0.010309  1.247203  0.237609   \n",
       "4   2.0 -1.158233  0.877737  1.548718  0.403034 -0.407193  0.095921  0.592941   \n",
       "\n",
       "         V8        V9  ...       V21       V22       V23       V24       V25  \\\n",
       "0  0.098698  0.363787  ... -0.018307  0.277838 -0.110474  0.066928  0.128539   \n",
       "1  0.085102 -0.255425  ... -0.225775 -0.638672  0.101288 -0.339846  0.167170   \n",
       "2  0.247676 -1.514654  ...  0.247998  0.771679  0.909412 -0.689281 -0.327642   \n",
       "3  0.377436 -1.387024  ... -0.108300  0.005274 -0.190321 -1.175575  0.647376   \n",
       "4 -0.270533  0.817739  ... -0.009431  0.798278 -0.137458  0.141267 -0.206010   \n",
       "\n",
       "        V26       V27       V28  Amount  Class  \n",
       "0 -0.189115  0.133558 -0.021053  149.62      0  \n",
       "1  0.125895 -0.008983  0.014724    2.69      0  \n",
       "2 -0.139097 -0.055353 -0.059752  378.66      0  \n",
       "3 -0.221929  0.062723  0.061458  123.50      0  \n",
       "4  0.502292  0.219422  0.215153   69.99      0  \n",
       "\n",
       "[5 rows x 31 columns]"
      ]
     },
     "execution_count": 174,
     "metadata": {},
     "output_type": "execute_result"
    }
   ],
   "source": [
    "import pandas as pd\n",
    "import numpy as np\n",
    "import matplotlib.pyplot as plt\n",
    "import seaborn as sns\n",
    "transactions = pd.read_csv(\"creditcard.csv\")\n",
    "transactions.head()"
   ]
  },
  {
   "cell_type": "code",
   "execution_count": 175,
   "metadata": {},
   "outputs": [
    {
     "data": {
      "text/html": [
       "<div>\n",
       "<style scoped>\n",
       "    .dataframe tbody tr th:only-of-type {\n",
       "        vertical-align: middle;\n",
       "    }\n",
       "\n",
       "    .dataframe tbody tr th {\n",
       "        vertical-align: top;\n",
       "    }\n",
       "\n",
       "    .dataframe thead th {\n",
       "        text-align: right;\n",
       "    }\n",
       "</style>\n",
       "<table border=\"1\" class=\"dataframe\">\n",
       "  <thead>\n",
       "    <tr style=\"text-align: right;\">\n",
       "      <th></th>\n",
       "      <th>Time</th>\n",
       "      <th>V1</th>\n",
       "      <th>V2</th>\n",
       "      <th>V3</th>\n",
       "      <th>V4</th>\n",
       "      <th>V5</th>\n",
       "      <th>V6</th>\n",
       "      <th>V7</th>\n",
       "      <th>V8</th>\n",
       "      <th>V9</th>\n",
       "      <th>...</th>\n",
       "      <th>V21</th>\n",
       "      <th>V22</th>\n",
       "      <th>V23</th>\n",
       "      <th>V24</th>\n",
       "      <th>V25</th>\n",
       "      <th>V26</th>\n",
       "      <th>V27</th>\n",
       "      <th>V28</th>\n",
       "      <th>Amount</th>\n",
       "      <th>Class</th>\n",
       "    </tr>\n",
       "  </thead>\n",
       "  <tbody>\n",
       "    <tr>\n",
       "      <th>count</th>\n",
       "      <td>284807.000000</td>\n",
       "      <td>2.848070e+05</td>\n",
       "      <td>2.848070e+05</td>\n",
       "      <td>2.848070e+05</td>\n",
       "      <td>2.848070e+05</td>\n",
       "      <td>2.848070e+05</td>\n",
       "      <td>2.848070e+05</td>\n",
       "      <td>2.848070e+05</td>\n",
       "      <td>2.848070e+05</td>\n",
       "      <td>2.848070e+05</td>\n",
       "      <td>...</td>\n",
       "      <td>2.848070e+05</td>\n",
       "      <td>2.848070e+05</td>\n",
       "      <td>2.848070e+05</td>\n",
       "      <td>2.848070e+05</td>\n",
       "      <td>2.848070e+05</td>\n",
       "      <td>2.848070e+05</td>\n",
       "      <td>2.848070e+05</td>\n",
       "      <td>2.848070e+05</td>\n",
       "      <td>284807.000000</td>\n",
       "      <td>284807.000000</td>\n",
       "    </tr>\n",
       "    <tr>\n",
       "      <th>mean</th>\n",
       "      <td>94813.859575</td>\n",
       "      <td>1.168375e-15</td>\n",
       "      <td>3.416908e-16</td>\n",
       "      <td>-1.379537e-15</td>\n",
       "      <td>2.074095e-15</td>\n",
       "      <td>9.604066e-16</td>\n",
       "      <td>1.487313e-15</td>\n",
       "      <td>-5.556467e-16</td>\n",
       "      <td>1.213481e-16</td>\n",
       "      <td>-2.406331e-15</td>\n",
       "      <td>...</td>\n",
       "      <td>1.654067e-16</td>\n",
       "      <td>-3.568593e-16</td>\n",
       "      <td>2.578648e-16</td>\n",
       "      <td>4.473266e-15</td>\n",
       "      <td>5.340915e-16</td>\n",
       "      <td>1.683437e-15</td>\n",
       "      <td>-3.660091e-16</td>\n",
       "      <td>-1.227390e-16</td>\n",
       "      <td>88.349619</td>\n",
       "      <td>0.001727</td>\n",
       "    </tr>\n",
       "    <tr>\n",
       "      <th>std</th>\n",
       "      <td>47488.145955</td>\n",
       "      <td>1.958696e+00</td>\n",
       "      <td>1.651309e+00</td>\n",
       "      <td>1.516255e+00</td>\n",
       "      <td>1.415869e+00</td>\n",
       "      <td>1.380247e+00</td>\n",
       "      <td>1.332271e+00</td>\n",
       "      <td>1.237094e+00</td>\n",
       "      <td>1.194353e+00</td>\n",
       "      <td>1.098632e+00</td>\n",
       "      <td>...</td>\n",
       "      <td>7.345240e-01</td>\n",
       "      <td>7.257016e-01</td>\n",
       "      <td>6.244603e-01</td>\n",
       "      <td>6.056471e-01</td>\n",
       "      <td>5.212781e-01</td>\n",
       "      <td>4.822270e-01</td>\n",
       "      <td>4.036325e-01</td>\n",
       "      <td>3.300833e-01</td>\n",
       "      <td>250.120109</td>\n",
       "      <td>0.041527</td>\n",
       "    </tr>\n",
       "    <tr>\n",
       "      <th>min</th>\n",
       "      <td>0.000000</td>\n",
       "      <td>-5.640751e+01</td>\n",
       "      <td>-7.271573e+01</td>\n",
       "      <td>-4.832559e+01</td>\n",
       "      <td>-5.683171e+00</td>\n",
       "      <td>-1.137433e+02</td>\n",
       "      <td>-2.616051e+01</td>\n",
       "      <td>-4.355724e+01</td>\n",
       "      <td>-7.321672e+01</td>\n",
       "      <td>-1.343407e+01</td>\n",
       "      <td>...</td>\n",
       "      <td>-3.483038e+01</td>\n",
       "      <td>-1.093314e+01</td>\n",
       "      <td>-4.480774e+01</td>\n",
       "      <td>-2.836627e+00</td>\n",
       "      <td>-1.029540e+01</td>\n",
       "      <td>-2.604551e+00</td>\n",
       "      <td>-2.256568e+01</td>\n",
       "      <td>-1.543008e+01</td>\n",
       "      <td>0.000000</td>\n",
       "      <td>0.000000</td>\n",
       "    </tr>\n",
       "    <tr>\n",
       "      <th>25%</th>\n",
       "      <td>54201.500000</td>\n",
       "      <td>-9.203734e-01</td>\n",
       "      <td>-5.985499e-01</td>\n",
       "      <td>-8.903648e-01</td>\n",
       "      <td>-8.486401e-01</td>\n",
       "      <td>-6.915971e-01</td>\n",
       "      <td>-7.682956e-01</td>\n",
       "      <td>-5.540759e-01</td>\n",
       "      <td>-2.086297e-01</td>\n",
       "      <td>-6.430976e-01</td>\n",
       "      <td>...</td>\n",
       "      <td>-2.283949e-01</td>\n",
       "      <td>-5.423504e-01</td>\n",
       "      <td>-1.618463e-01</td>\n",
       "      <td>-3.545861e-01</td>\n",
       "      <td>-3.171451e-01</td>\n",
       "      <td>-3.269839e-01</td>\n",
       "      <td>-7.083953e-02</td>\n",
       "      <td>-5.295979e-02</td>\n",
       "      <td>5.600000</td>\n",
       "      <td>0.000000</td>\n",
       "    </tr>\n",
       "    <tr>\n",
       "      <th>50%</th>\n",
       "      <td>84692.000000</td>\n",
       "      <td>1.810880e-02</td>\n",
       "      <td>6.548556e-02</td>\n",
       "      <td>1.798463e-01</td>\n",
       "      <td>-1.984653e-02</td>\n",
       "      <td>-5.433583e-02</td>\n",
       "      <td>-2.741871e-01</td>\n",
       "      <td>4.010308e-02</td>\n",
       "      <td>2.235804e-02</td>\n",
       "      <td>-5.142873e-02</td>\n",
       "      <td>...</td>\n",
       "      <td>-2.945017e-02</td>\n",
       "      <td>6.781943e-03</td>\n",
       "      <td>-1.119293e-02</td>\n",
       "      <td>4.097606e-02</td>\n",
       "      <td>1.659350e-02</td>\n",
       "      <td>-5.213911e-02</td>\n",
       "      <td>1.342146e-03</td>\n",
       "      <td>1.124383e-02</td>\n",
       "      <td>22.000000</td>\n",
       "      <td>0.000000</td>\n",
       "    </tr>\n",
       "    <tr>\n",
       "      <th>75%</th>\n",
       "      <td>139320.500000</td>\n",
       "      <td>1.315642e+00</td>\n",
       "      <td>8.037239e-01</td>\n",
       "      <td>1.027196e+00</td>\n",
       "      <td>7.433413e-01</td>\n",
       "      <td>6.119264e-01</td>\n",
       "      <td>3.985649e-01</td>\n",
       "      <td>5.704361e-01</td>\n",
       "      <td>3.273459e-01</td>\n",
       "      <td>5.971390e-01</td>\n",
       "      <td>...</td>\n",
       "      <td>1.863772e-01</td>\n",
       "      <td>5.285536e-01</td>\n",
       "      <td>1.476421e-01</td>\n",
       "      <td>4.395266e-01</td>\n",
       "      <td>3.507156e-01</td>\n",
       "      <td>2.409522e-01</td>\n",
       "      <td>9.104512e-02</td>\n",
       "      <td>7.827995e-02</td>\n",
       "      <td>77.165000</td>\n",
       "      <td>0.000000</td>\n",
       "    </tr>\n",
       "    <tr>\n",
       "      <th>max</th>\n",
       "      <td>172792.000000</td>\n",
       "      <td>2.454930e+00</td>\n",
       "      <td>2.205773e+01</td>\n",
       "      <td>9.382558e+00</td>\n",
       "      <td>1.687534e+01</td>\n",
       "      <td>3.480167e+01</td>\n",
       "      <td>7.330163e+01</td>\n",
       "      <td>1.205895e+02</td>\n",
       "      <td>2.000721e+01</td>\n",
       "      <td>1.559499e+01</td>\n",
       "      <td>...</td>\n",
       "      <td>2.720284e+01</td>\n",
       "      <td>1.050309e+01</td>\n",
       "      <td>2.252841e+01</td>\n",
       "      <td>4.584549e+00</td>\n",
       "      <td>7.519589e+00</td>\n",
       "      <td>3.517346e+00</td>\n",
       "      <td>3.161220e+01</td>\n",
       "      <td>3.384781e+01</td>\n",
       "      <td>25691.160000</td>\n",
       "      <td>1.000000</td>\n",
       "    </tr>\n",
       "  </tbody>\n",
       "</table>\n",
       "<p>8 rows × 31 columns</p>\n",
       "</div>"
      ],
      "text/plain": [
       "                Time            V1            V2            V3            V4  \\\n",
       "count  284807.000000  2.848070e+05  2.848070e+05  2.848070e+05  2.848070e+05   \n",
       "mean    94813.859575  1.168375e-15  3.416908e-16 -1.379537e-15  2.074095e-15   \n",
       "std     47488.145955  1.958696e+00  1.651309e+00  1.516255e+00  1.415869e+00   \n",
       "min         0.000000 -5.640751e+01 -7.271573e+01 -4.832559e+01 -5.683171e+00   \n",
       "25%     54201.500000 -9.203734e-01 -5.985499e-01 -8.903648e-01 -8.486401e-01   \n",
       "50%     84692.000000  1.810880e-02  6.548556e-02  1.798463e-01 -1.984653e-02   \n",
       "75%    139320.500000  1.315642e+00  8.037239e-01  1.027196e+00  7.433413e-01   \n",
       "max    172792.000000  2.454930e+00  2.205773e+01  9.382558e+00  1.687534e+01   \n",
       "\n",
       "                 V5            V6            V7            V8            V9  \\\n",
       "count  2.848070e+05  2.848070e+05  2.848070e+05  2.848070e+05  2.848070e+05   \n",
       "mean   9.604066e-16  1.487313e-15 -5.556467e-16  1.213481e-16 -2.406331e-15   \n",
       "std    1.380247e+00  1.332271e+00  1.237094e+00  1.194353e+00  1.098632e+00   \n",
       "min   -1.137433e+02 -2.616051e+01 -4.355724e+01 -7.321672e+01 -1.343407e+01   \n",
       "25%   -6.915971e-01 -7.682956e-01 -5.540759e-01 -2.086297e-01 -6.430976e-01   \n",
       "50%   -5.433583e-02 -2.741871e-01  4.010308e-02  2.235804e-02 -5.142873e-02   \n",
       "75%    6.119264e-01  3.985649e-01  5.704361e-01  3.273459e-01  5.971390e-01   \n",
       "max    3.480167e+01  7.330163e+01  1.205895e+02  2.000721e+01  1.559499e+01   \n",
       "\n",
       "       ...           V21           V22           V23           V24  \\\n",
       "count  ...  2.848070e+05  2.848070e+05  2.848070e+05  2.848070e+05   \n",
       "mean   ...  1.654067e-16 -3.568593e-16  2.578648e-16  4.473266e-15   \n",
       "std    ...  7.345240e-01  7.257016e-01  6.244603e-01  6.056471e-01   \n",
       "min    ... -3.483038e+01 -1.093314e+01 -4.480774e+01 -2.836627e+00   \n",
       "25%    ... -2.283949e-01 -5.423504e-01 -1.618463e-01 -3.545861e-01   \n",
       "50%    ... -2.945017e-02  6.781943e-03 -1.119293e-02  4.097606e-02   \n",
       "75%    ...  1.863772e-01  5.285536e-01  1.476421e-01  4.395266e-01   \n",
       "max    ...  2.720284e+01  1.050309e+01  2.252841e+01  4.584549e+00   \n",
       "\n",
       "                V25           V26           V27           V28         Amount  \\\n",
       "count  2.848070e+05  2.848070e+05  2.848070e+05  2.848070e+05  284807.000000   \n",
       "mean   5.340915e-16  1.683437e-15 -3.660091e-16 -1.227390e-16      88.349619   \n",
       "std    5.212781e-01  4.822270e-01  4.036325e-01  3.300833e-01     250.120109   \n",
       "min   -1.029540e+01 -2.604551e+00 -2.256568e+01 -1.543008e+01       0.000000   \n",
       "25%   -3.171451e-01 -3.269839e-01 -7.083953e-02 -5.295979e-02       5.600000   \n",
       "50%    1.659350e-02 -5.213911e-02  1.342146e-03  1.124383e-02      22.000000   \n",
       "75%    3.507156e-01  2.409522e-01  9.104512e-02  7.827995e-02      77.165000   \n",
       "max    7.519589e+00  3.517346e+00  3.161220e+01  3.384781e+01   25691.160000   \n",
       "\n",
       "               Class  \n",
       "count  284807.000000  \n",
       "mean        0.001727  \n",
       "std         0.041527  \n",
       "min         0.000000  \n",
       "25%         0.000000  \n",
       "50%         0.000000  \n",
       "75%         0.000000  \n",
       "max         1.000000  \n",
       "\n",
       "[8 rows x 31 columns]"
      ]
     },
     "execution_count": 175,
     "metadata": {},
     "output_type": "execute_result"
    }
   ],
   "source": [
    "transactions.describe()"
   ]
  },
  {
   "cell_type": "code",
   "execution_count": 176,
   "metadata": {
    "colab": {
     "base_uri": "https://localhost:8080/"
    },
    "id": "oovAk_WlfZHa",
    "outputId": "a7903ff4-2ee8-442e-8c0e-f6727b2c3c5a"
   },
   "outputs": [
    {
     "name": "stdout",
     "output_type": "stream",
     "text": [
      "<class 'pandas.core.frame.DataFrame'>\n",
      "RangeIndex: 284807 entries, 0 to 284806\n",
      "Data columns (total 31 columns):\n",
      " #   Column  Non-Null Count   Dtype  \n",
      "---  ------  --------------   -----  \n",
      " 0   Time    284807 non-null  float64\n",
      " 1   V1      284807 non-null  float64\n",
      " 2   V2      284807 non-null  float64\n",
      " 3   V3      284807 non-null  float64\n",
      " 4   V4      284807 non-null  float64\n",
      " 5   V5      284807 non-null  float64\n",
      " 6   V6      284807 non-null  float64\n",
      " 7   V7      284807 non-null  float64\n",
      " 8   V8      284807 non-null  float64\n",
      " 9   V9      284807 non-null  float64\n",
      " 10  V10     284807 non-null  float64\n",
      " 11  V11     284807 non-null  float64\n",
      " 12  V12     284807 non-null  float64\n",
      " 13  V13     284807 non-null  float64\n",
      " 14  V14     284807 non-null  float64\n",
      " 15  V15     284807 non-null  float64\n",
      " 16  V16     284807 non-null  float64\n",
      " 17  V17     284807 non-null  float64\n",
      " 18  V18     284807 non-null  float64\n",
      " 19  V19     284807 non-null  float64\n",
      " 20  V20     284807 non-null  float64\n",
      " 21  V21     284807 non-null  float64\n",
      " 22  V22     284807 non-null  float64\n",
      " 23  V23     284807 non-null  float64\n",
      " 24  V24     284807 non-null  float64\n",
      " 25  V25     284807 non-null  float64\n",
      " 26  V26     284807 non-null  float64\n",
      " 27  V27     284807 non-null  float64\n",
      " 28  V28     284807 non-null  float64\n",
      " 29  Amount  284807 non-null  float64\n",
      " 30  Class   284807 non-null  int64  \n",
      "dtypes: float64(30), int64(1)\n",
      "memory usage: 67.4 MB\n"
     ]
    }
   ],
   "source": [
    "transactions.info()"
   ]
  },
  {
   "cell_type": "code",
   "execution_count": 177,
   "metadata": {
    "colab": {
     "base_uri": "https://localhost:8080/"
    },
    "id": "mOKTnp4mgRjh",
    "outputId": "ca07cc5c-f11e-486b-e6c1-4adf8bf3b1fb"
   },
   "outputs": [
    {
     "name": "stdout",
     "output_type": "stream",
     "text": [
      "normal transactions, 284315, are 99.8273% of the total samples which is 284807.\n",
      "fraud transactions, 492, are 0.1727% of the total samples which is 284807.\n"
     ]
    }
   ],
   "source": [
    "balance = transactions['Class'].value_counts()\n",
    "num_samp = len(transactions.index)\n",
    "print(f\"normal transactions, {balance.values[0]}, are {balance.values[0]/num_samp*100:.4f}% of the total samples which is {num_samp}.\")\n",
    "print(f\"fraud transactions, {balance.values[1]}, are {balance.values[1]/num_samp*100:.4f}% of the total samples which is {num_samp}.\")"
   ]
  },
  {
   "cell_type": "code",
   "execution_count": 178,
   "metadata": {},
   "outputs": [
    {
     "data": {
      "image/png": "[encoded data removed]",
      "text/plain": [
       "<Figure size 576x432 with 1 Axes>"
      ]
     },
     "metadata": {
      "needs_background": "light"
     },
     "output_type": "display_data"
    }
   ],
   "source": [
    "class_counts = transactions[\"Class\"].value_counts()\n",
    "\n",
    "plt.figure(figsize=(8, 6))\n",
    "sns.barplot(x=class_counts.index, y=class_counts.values, palette='viridis')\n",
    "\n",
    "plt.title(\"Class Distribution\")\n",
    "plt.xlabel(\"Class\")\n",
    "plt.ylabel(\"Count\")\n",
    "\n",
    "plt.show()"
   ]
  },
  {
   "cell_type": "raw",
   "metadata": {},
   "source": [
    "the dataset is highly imbalanced!\n",
    "as the dataset is highly imbalanced in favor of normal transactions the model sees a lot more normal transactions and the models we build would be biased "
   ]
  },
  {
   "cell_type": "markdown",
   "metadata": {
    "id": "AB1k9zQxir5s"
   },
   "source": [
    "## 2.2 Visualize data"
   ]
  },
  {
   "cell_type": "code",
   "execution_count": 179,
   "metadata": {
    "colab": {
     "base_uri": "https://localhost:8080/",
     "height": 1000
    },
    "id": "nMgdLvUKgZjt",
    "outputId": "8b5a6a37-c3e0-4069-c3db-427a3cff0dde"
   },
   "outputs": [
    {
     "data": {
      "image/png": "[encoded data removed]",
      "text/plain": [
       "<Figure size 1728x1152 with 30 Axes>"
      ]
     },
     "metadata": {
      "needs_background": "light"
     },
     "output_type": "display_data"
    }
   ],
   "source": [
    "transactions.iloc[:-1,:-1].hist(bins=50, figsize=(24, 16))#class feature has already been shown above\n",
    "plt.show()"
   ]
  },
  {
   "cell_type": "markdown",
   "metadata": {
    "id": "haqTrAQJk9au"
   },
   "source": [
    "# 3. Split data to train and test sets"
   ]
  },
  {
   "cell_type": "code",
   "execution_count": 180,
   "metadata": {
    "id": "6nFbBYPRi3bR"
   },
   "outputs": [],
   "source": [
    "from sklearn.model_selection import train_test_split\n",
    "\n",
    "unused_transactions_train, test = train_test_split(\n",
    "    transactions, test_size=0.2, stratify=transactions[\"Class\"], random_state=42)\n",
    "# it's not a random split. I'm choosing the right amount of samples for test and train set based on a important feature, in this case the feature is class\n",
    "# this transactions_train woudln't be used for training, read undersampling comments. \n",
    "# this test set would be used to evaulate the performance of the final models, read undersampling comments. "
   ]
  },
  {
   "cell_type": "markdown",
   "metadata": {},
   "source": [
    "## 4.Undersampling technique"
   ]
  },
  {
   "cell_type": "code",
   "execution_count": 181,
   "metadata": {},
   "outputs": [],
   "source": [
    "# to deal with highly imbalance dataset, we need to create a dataset which has equal amount of samples for both classes\n",
    "# however, notice that test set had been splited before undersampling. because in the end we want to measure the performance of the models by the original dataset\n",
    "\n",
    "# step 1. isolate fraud transactions. class = 1\n",
    "fraud_transactions = transactions[transactions[\"Class\"] == 1]\n",
    "\n",
    "# step 2. since we have 492 fraud transactions we gonna need 492 normal transactions to form a balance dataset. we gonna choose normal transactions randomly\n",
    "normal_transactions = transactions[transactions[\"Class\"] == 0]\n",
    "random_samples = normal_transactions.index.to_series().sample(n=492, replace=False, random_state=42)\n",
    "normal_transactions = normal_transactions.iloc[random_samples,:]\n",
    "\n",
    "# this cell may get an error on the first attempt! if it did, rerun it."
   ]
  },
  {
   "cell_type": "code",
   "execution_count": 182,
   "metadata": {},
   "outputs": [
    {
     "name": "stdout",
     "output_type": "stream",
     "text": [
      "fraud_transactions shape = (492, 31), normal_transactions shape = (492, 31)\n"
     ]
    }
   ],
   "source": [
    "print(f\"fraud_transactions shape = {fraud_transactions.shape}, normal_transactions shape = {normal_transactions.shape}\")"
   ]
  },
  {
   "cell_type": "code",
   "execution_count": 183,
   "metadata": {},
   "outputs": [
    {
     "data": {
      "text/plain": [
       "(984, 31)"
      ]
     },
     "execution_count": 183,
     "metadata": {},
     "output_type": "execute_result"
    }
   ],
   "source": [
    "# Good! \n",
    "# we just need to concat these 2 datasets to have a balance dataset\n",
    "transactions = pd.concat([fraud_transactions, normal_transactions])\n",
    "transactions.shape"
   ]
  },
  {
   "cell_type": "code",
   "execution_count": 184,
   "metadata": {},
   "outputs": [],
   "source": [
    "# Great! \n",
    "# now we have a balance dataset\n",
    "# we need a train set\n",
    "\n",
    "transactions_train, unused_test = train_test_split(\n",
    "    transactions, test_size=0.2, random_state=42)"
   ]
  },
  {
   "cell_type": "markdown",
   "metadata": {
    "id": "u1s0deosnUa4"
   },
   "source": [
    "## 5. Explore train set in more detail"
   ]
  },
  {
   "cell_type": "code",
   "execution_count": 185,
   "metadata": {
    "id": "DfVMLSc2mgmh"
   },
   "outputs": [],
   "source": [
    "transactions = transactions_train.copy() # to make naming clear, transactions is the train set"
   ]
  },
  {
   "cell_type": "code",
   "execution_count": 186,
   "metadata": {
    "colab": {
     "base_uri": "https://localhost:8080/"
    },
    "id": "p48gkEdrmlcy",
    "outputId": "b68269f8-aba8-460e-b5fc-dc7354123192"
   },
   "outputs": [
    {
     "data": {
      "text/plain": [
       "(787, 31)"
      ]
     },
     "execution_count": 186,
     "metadata": {},
     "output_type": "execute_result"
    }
   ],
   "source": [
    "transactions.shape"
   ]
  },
  {
   "cell_type": "markdown",
   "metadata": {
    "id": "VHTPQFSanqM6"
   },
   "source": [
    "## 5.1 Data preprocessing"
   ]
  },
  {
   "cell_type": "code",
   "execution_count": 187,
   "metadata": {
    "colab": {
     "base_uri": "https://localhost:8080/"
    },
    "id": "tcVata-kmqZG",
    "outputId": "dde6135f-6fca-4da5-8ddf-87ed4303f780"
   },
   "outputs": [
    {
     "name": "stdout",
     "output_type": "stream",
     "text": [
      "<class 'pandas.core.frame.DataFrame'>\n",
      "Index: 787 entries, 148628 to 33276\n",
      "Data columns (total 31 columns):\n",
      " #   Column  Non-Null Count  Dtype  \n",
      "---  ------  --------------  -----  \n",
      " 0   Time    787 non-null    float64\n",
      " 1   V1      787 non-null    float64\n",
      " 2   V2      787 non-null    float64\n",
      " 3   V3      787 non-null    float64\n",
      " 4   V4      787 non-null    float64\n",
      " 5   V5      787 non-null    float64\n",
      " 6   V6      787 non-null    float64\n",
      " 7   V7      787 non-null    float64\n",
      " 8   V8      787 non-null    float64\n",
      " 9   V9      787 non-null    float64\n",
      " 10  V10     787 non-null    float64\n",
      " 11  V11     787 non-null    float64\n",
      " 12  V12     787 non-null    float64\n",
      " 13  V13     787 non-null    float64\n",
      " 14  V14     787 non-null    float64\n",
      " 15  V15     787 non-null    float64\n",
      " 16  V16     787 non-null    float64\n",
      " 17  V17     787 non-null    float64\n",
      " 18  V18     787 non-null    float64\n",
      " 19  V19     787 non-null    float64\n",
      " 20  V20     787 non-null    float64\n",
      " 21  V21     787 non-null    float64\n",
      " 22  V22     787 non-null    float64\n",
      " 23  V23     787 non-null    float64\n",
      " 24  V24     787 non-null    float64\n",
      " 25  V25     787 non-null    float64\n",
      " 26  V26     787 non-null    float64\n",
      " 27  V27     787 non-null    float64\n",
      " 28  V28     787 non-null    float64\n",
      " 29  Amount  787 non-null    float64\n",
      " 30  Class   787 non-null    int64  \n",
      "dtypes: float64(30), int64(1)\n",
      "memory usage: 196.8 KB\n"
     ]
    }
   ],
   "source": [
    "transactions.info()\n",
    "# no missing value\n",
    "# no categorical variable"
   ]
  },
  {
   "cell_type": "markdown",
   "metadata": {},
   "source": [
    "## 5.1.1 Drop duplicate samples"
   ]
  },
  {
   "cell_type": "code",
   "execution_count": 188,
   "metadata": {},
   "outputs": [
    {
     "data": {
      "text/plain": [
       "12"
      ]
     },
     "execution_count": 188,
     "metadata": {},
     "output_type": "execute_result"
    }
   ],
   "source": [
    "transactions.duplicated().sum()\n",
    "# 12 samples are duplicated"
   ]
  },
  {
   "cell_type": "code",
   "execution_count": 189,
   "metadata": {},
   "outputs": [],
   "source": [
    "transactions.drop_duplicates(inplace = True)"
   ]
  },
  {
   "cell_type": "code",
   "execution_count": 190,
   "metadata": {},
   "outputs": [
    {
     "data": {
      "text/plain": [
       "(775, 31)"
      ]
     },
     "execution_count": 190,
     "metadata": {},
     "output_type": "execute_result"
    }
   ],
   "source": [
    "transactions.shape"
   ]
  },
  {
   "cell_type": "markdown",
   "metadata": {
    "id": "M5EGIJNMoEEo"
   },
   "source": [
    "## 5.1.2 Feature scaling"
   ]
  },
  {
   "cell_type": "code",
   "execution_count": 191,
   "metadata": {
    "colab": {
     "base_uri": "https://localhost:8080/",
     "height": 255
    },
    "id": "6YxkFn-znyMl",
    "outputId": "c0c32ad7-2d45-4f67-fdb8-732818e78226"
   },
   "outputs": [
    {
     "data": {
      "text/html": [
       "<div>\n",
       "<style scoped>\n",
       "    .dataframe tbody tr th:only-of-type {\n",
       "        vertical-align: middle;\n",
       "    }\n",
       "\n",
       "    .dataframe tbody tr th {\n",
       "        vertical-align: top;\n",
       "    }\n",
       "\n",
       "    .dataframe thead th {\n",
       "        text-align: right;\n",
       "    }\n",
       "</style>\n",
       "<table border=\"1\" class=\"dataframe\">\n",
       "  <thead>\n",
       "    <tr style=\"text-align: right;\">\n",
       "      <th></th>\n",
       "      <th>Time</th>\n",
       "      <th>V1</th>\n",
       "      <th>V2</th>\n",
       "      <th>V3</th>\n",
       "      <th>V4</th>\n",
       "      <th>V5</th>\n",
       "      <th>V6</th>\n",
       "      <th>V7</th>\n",
       "      <th>V8</th>\n",
       "      <th>V9</th>\n",
       "      <th>...</th>\n",
       "      <th>V21</th>\n",
       "      <th>V22</th>\n",
       "      <th>V23</th>\n",
       "      <th>V24</th>\n",
       "      <th>V25</th>\n",
       "      <th>V26</th>\n",
       "      <th>V27</th>\n",
       "      <th>V28</th>\n",
       "      <th>Amount</th>\n",
       "      <th>Class</th>\n",
       "    </tr>\n",
       "  </thead>\n",
       "  <tbody>\n",
       "    <tr>\n",
       "      <th>148628</th>\n",
       "      <td>90086.0</td>\n",
       "      <td>-2.178245</td>\n",
       "      <td>-0.911402</td>\n",
       "      <td>0.843247</td>\n",
       "      <td>-0.354214</td>\n",
       "      <td>3.269231</td>\n",
       "      <td>-1.920507</td>\n",
       "      <td>-0.295878</td>\n",
       "      <td>0.030576</td>\n",
       "      <td>0.952497</td>\n",
       "      <td>...</td>\n",
       "      <td>-0.357689</td>\n",
       "      <td>-1.501182</td>\n",
       "      <td>0.076067</td>\n",
       "      <td>0.294249</td>\n",
       "      <td>0.684123</td>\n",
       "      <td>0.183607</td>\n",
       "      <td>-0.160125</td>\n",
       "      <td>0.099012</td>\n",
       "      <td>1.98</td>\n",
       "      <td>0</td>\n",
       "    </tr>\n",
       "    <tr>\n",
       "      <th>84939</th>\n",
       "      <td>60530.0</td>\n",
       "      <td>1.496612</td>\n",
       "      <td>-1.450776</td>\n",
       "      <td>0.511173</td>\n",
       "      <td>-1.612566</td>\n",
       "      <td>-1.265303</td>\n",
       "      <td>0.956041</td>\n",
       "      <td>-1.693659</td>\n",
       "      <td>0.287020</td>\n",
       "      <td>-1.150133</td>\n",
       "      <td>...</td>\n",
       "      <td>-0.295541</td>\n",
       "      <td>-0.355211</td>\n",
       "      <td>-0.172903</td>\n",
       "      <td>-1.402114</td>\n",
       "      <td>0.436249</td>\n",
       "      <td>-0.107190</td>\n",
       "      <td>0.068504</td>\n",
       "      <td>0.007694</td>\n",
       "      <td>30.97</td>\n",
       "      <td>0</td>\n",
       "    </tr>\n",
       "    <tr>\n",
       "      <th>154286</th>\n",
       "      <td>101051.0</td>\n",
       "      <td>-1.465316</td>\n",
       "      <td>-1.093377</td>\n",
       "      <td>-0.059768</td>\n",
       "      <td>1.064785</td>\n",
       "      <td>11.095089</td>\n",
       "      <td>-5.430971</td>\n",
       "      <td>-9.378025</td>\n",
       "      <td>-0.446456</td>\n",
       "      <td>1.992110</td>\n",
       "      <td>...</td>\n",
       "      <td>1.160623</td>\n",
       "      <td>-1.259697</td>\n",
       "      <td>-15.981649</td>\n",
       "      <td>-0.883670</td>\n",
       "      <td>-3.536716</td>\n",
       "      <td>-0.592965</td>\n",
       "      <td>0.675525</td>\n",
       "      <td>0.424849</td>\n",
       "      <td>0.92</td>\n",
       "      <td>1</td>\n",
       "    </tr>\n",
       "    <tr>\n",
       "      <th>203702</th>\n",
       "      <td>134928.0</td>\n",
       "      <td>0.873930</td>\n",
       "      <td>-2.379076</td>\n",
       "      <td>-1.465831</td>\n",
       "      <td>0.527825</td>\n",
       "      <td>-0.778962</td>\n",
       "      <td>0.288092</td>\n",
       "      <td>0.189899</td>\n",
       "      <td>-0.143854</td>\n",
       "      <td>0.998534</td>\n",
       "      <td>...</td>\n",
       "      <td>0.502168</td>\n",
       "      <td>0.157962</td>\n",
       "      <td>-0.415068</td>\n",
       "      <td>0.123369</td>\n",
       "      <td>-0.451026</td>\n",
       "      <td>0.594766</td>\n",
       "      <td>-0.157082</td>\n",
       "      <td>0.059854</td>\n",
       "      <td>628.50</td>\n",
       "      <td>0</td>\n",
       "    </tr>\n",
       "    <tr>\n",
       "      <th>178971</th>\n",
       "      <td>123866.0</td>\n",
       "      <td>0.958878</td>\n",
       "      <td>-3.119481</td>\n",
       "      <td>-2.144711</td>\n",
       "      <td>-0.363285</td>\n",
       "      <td>-0.990840</td>\n",
       "      <td>0.348700</td>\n",
       "      <td>0.028338</td>\n",
       "      <td>-0.120619</td>\n",
       "      <td>0.017107</td>\n",
       "      <td>...</td>\n",
       "      <td>0.842737</td>\n",
       "      <td>1.200739</td>\n",
       "      <td>-0.750967</td>\n",
       "      <td>0.317934</td>\n",
       "      <td>0.269758</td>\n",
       "      <td>0.207906</td>\n",
       "      <td>-0.149787</td>\n",
       "      <td>0.029467</td>\n",
       "      <td>650.00</td>\n",
       "      <td>0</td>\n",
       "    </tr>\n",
       "  </tbody>\n",
       "</table>\n",
       "<p>5 rows × 31 columns</p>\n",
       "</div>"
      ],
      "text/plain": [
       "            Time        V1        V2        V3        V4         V5        V6  \\\n",
       "148628   90086.0 -2.178245 -0.911402  0.843247 -0.354214   3.269231 -1.920507   \n",
       "84939    60530.0  1.496612 -1.450776  0.511173 -1.612566  -1.265303  0.956041   \n",
       "154286  101051.0 -1.465316 -1.093377 -0.059768  1.064785  11.095089 -5.430971   \n",
       "203702  134928.0  0.873930 -2.379076 -1.465831  0.527825  -0.778962  0.288092   \n",
       "178971  123866.0  0.958878 -3.119481 -2.144711 -0.363285  -0.990840  0.348700   \n",
       "\n",
       "              V7        V8        V9  ...       V21       V22        V23  \\\n",
       "148628 -0.295878  0.030576  0.952497  ... -0.357689 -1.501182   0.076067   \n",
       "84939  -1.693659  0.287020 -1.150133  ... -0.295541 -0.355211  -0.172903   \n",
       "154286 -9.378025 -0.446456  1.992110  ...  1.160623 -1.259697 -15.981649   \n",
       "203702  0.189899 -0.143854  0.998534  ...  0.502168  0.157962  -0.415068   \n",
       "178971  0.028338 -0.120619  0.017107  ...  0.842737  1.200739  -0.750967   \n",
       "\n",
       "             V24       V25       V26       V27       V28  Amount  Class  \n",
       "148628  0.294249  0.684123  0.183607 -0.160125  0.099012    1.98      0  \n",
       "84939  -1.402114  0.436249 -0.107190  0.068504  0.007694   30.97      0  \n",
       "154286 -0.883670 -3.536716 -0.592965  0.675525  0.424849    0.92      1  \n",
       "203702  0.123369 -0.451026  0.594766 -0.157082  0.059854  628.50      0  \n",
       "178971  0.317934  0.269758  0.207906 -0.149787  0.029467  650.00      0  \n",
       "\n",
       "[5 rows x 31 columns]"
      ]
     },
     "execution_count": 191,
     "metadata": {},
     "output_type": "execute_result"
    }
   ],
   "source": [
    "transactions.head()"
   ]
  },
  {
   "cell_type": "code",
   "execution_count": 192,
   "metadata": {
    "id": "29PREdHLo7O1"
   },
   "outputs": [],
   "source": [
    "# Time feature -> StandardScaler -> range between 0 to 1\n",
    "# Amount feature -> RobustScaler -> deals better with outliers\n",
    "\n",
    "from sklearn.preprocessing import StandardScaler\n",
    "from sklearn.preprocessing import RobustScaler\n",
    "\n",
    "scaler1 = StandardScaler()\n",
    "scaler2 = RobustScaler()\n",
    "\n",
    "transactions[\"Time\"] = scaler1.fit_transform(transactions[[\"Time\"]])\n",
    "transactions[\"Amount\"] = scaler1.fit_transform(transactions[[\"Amount\"]])"
   ]
  },
  {
   "cell_type": "code",
   "execution_count": 193,
   "metadata": {
    "colab": {
     "base_uri": "https://localhost:8080/",
     "height": 391
    },
    "id": "K4Qunq2crpTD",
    "outputId": "20629180-b9b2-4bd3-ac54-bd6094a11741"
   },
   "outputs": [
    {
     "data": {
      "image/png": "[encoded data removed]",
      "text/plain": [
       "<Figure size 2160x288 with 2 Axes>"
      ]
     },
     "metadata": {
      "needs_background": "light"
     },
     "output_type": "display_data"
    }
   ],
   "source": [
    "axes = transactions.loc[:,[\"Time\", \"Amount\"]].hist(bins=50, figsize=(30, 4))\n",
    "for ax, column in zip(axes.flatten(), [\"Time\", \"Amount\"]):\n",
    "    ax.set_xlabel(\"Value\")\n",
    "    ax.set_ylabel(\"Frequency\")\n",
    "    ax.set_title(f\"{column} Distribution\")\n",
    "plt.show()"
   ]
  },
  {
   "cell_type": "markdown",
   "metadata": {},
   "source": [
    "## 5.2 Correlations"
   ]
  },
  {
   "cell_type": "code",
   "execution_count": 194,
   "metadata": {},
   "outputs": [
    {
     "data": {
      "image/png": "[encoded data removed]",
      "text/plain": [
       "<Figure size 2160x432 with 1 Axes>"
      ]
     },
     "metadata": {
      "needs_background": "light"
     },
     "output_type": "display_data"
    }
   ],
   "source": [
    "# let's measure correlations\n",
    "corr_matrix = transactions.corr()\n",
    "\n",
    "# Let's visualize correlations\n",
    "\n",
    "plt.figure(figsize=(30, 6))\n",
    "corr_matrix[\"Class\"].sort_values(ascending=False).plot(kind=\"bar\", color=\"green\")\n",
    "plt.title(\"Correlation of fraud/normal transactions with other attributes\", fontsize=16)\n",
    "plt.xlabel(\"Features\")\n",
    "plt.ylabel(\"Correlation\")\n",
    "plt.xticks(rotation=45, ha=\"right\")\n",
    "plt.show()"
   ]
  },
  {
   "cell_type": "raw",
   "metadata": {},
   "source": [
    "V4 has the biggest positive correlation with transaction being fraud or normal\n",
    "V14 has the biggest negative correlation with transaction being fraud or normal"
   ]
  },
  {
   "cell_type": "code",
   "execution_count": 195,
   "metadata": {},
   "outputs": [],
   "source": [
    "# V25 feature has almost no effect on the transaction being fraud or normal. it can be dropped.\n",
    "transactions.drop(columns=\"V25\", inplace=True)"
   ]
  },
  {
   "cell_type": "code",
   "execution_count": 196,
   "metadata": {},
   "outputs": [
    {
     "data": {
      "text/plain": [
       "(775, 30)"
      ]
     },
     "execution_count": 196,
     "metadata": {},
     "output_type": "execute_result"
    }
   ],
   "source": [
    "transactions.shape\n",
    "# now we have 30 features"
   ]
  },
  {
   "cell_type": "markdown",
   "metadata": {
    "id": "DqfC0j-fvCUx"
   },
   "source": [
    "## 5.2.1 Reduce redundant dimensionality - Multicollinearity\n"
   ]
  },
  {
   "cell_type": "code",
   "execution_count": 197,
   "metadata": {
    "colab": {
     "base_uri": "https://localhost:8080/"
    },
    "id": "aDvEx_cJtq_G",
    "outputId": "a5d89c99-e0bc-4519-939c-0350fda0f3fe"
   },
   "outputs": [],
   "source": [
    "# check whether there are highly correlated features to choose one of them\n",
    "\n",
    "corr_matrix = transactions.corr()\n",
    "features_corr = corr_matrix.iloc[:-1, :-1]\n",
    "target_corr = corr_matrix[\"Class\"]\n",
    "\n",
    "high_corrs = set()\n",
    "for feature in features_corr.columns:  # finding features which are highly correlated with the current feature\n",
    "    cols = features_corr.index[abs(features_corr[feature]) > 0.8]\n",
    "    for col in cols:\n",
    "        if col != feature and col not in high_corrs:\n",
    "            high_corrs.add(col)\n",
    "            \n",
    "high_corrs = list(high_corrs)\n",
    "high_corrs.sort()\n",
    "\n",
    "high_corrs_dict = {} # this dictionary would have features which are highly similar, and the correlation of each of them with the target value (ESTIMATED_VISITS)\n",
    "\n",
    "for feature in high_corrs:\n",
    "    high_corrs_dict[feature] = target_corr[feature]"
   ]
  },
  {
   "cell_type": "code",
   "execution_count": 198,
   "metadata": {},
   "outputs": [
    {
     "data": {
      "text/plain": [
       "{'V1': -0.4288524345143442,\n",
       " 'V10': -0.6301350744752954,\n",
       " 'V11': 0.6821940358206778,\n",
       " 'V12': -0.6716752429836114,\n",
       " 'V14': -0.7512824551766185,\n",
       " 'V16': -0.5840199349640787,\n",
       " 'V17': -0.5405735207869032,\n",
       " 'V18': -0.43556691503776856,\n",
       " 'V2': 0.4975663716987832,\n",
       " 'V3': -0.5688970132071082,\n",
       " 'V4': 0.712824013610517,\n",
       " 'V5': -0.35643919928264417,\n",
       " 'V7': -0.46906298705274524,\n",
       " 'V9': -0.5547230271748819}"
      ]
     },
     "execution_count": 198,
     "metadata": {},
     "output_type": "execute_result"
    }
   ],
   "source": [
    "high_corrs_dict"
   ]
  },
  {
   "cell_type": "code",
   "execution_count": 199,
   "metadata": {},
   "outputs": [],
   "source": [
    "# among highly correlated features, I want to keep only one that has the greatest absolute value correlation with the target value.\n",
    "keep = [] \n",
    "seen = set() # as I iterate through features, I want to calculate their correlation with the target value just once\n",
    "for feature in high_corrs_dict.keys():\n",
    "    if feature in seen: # if the feature was seen previously, it has been calculated before, go to the next feature\n",
    "        continue\n",
    "    greatest = feature\n",
    "    corr_features = features_corr.index[abs(features_corr[feature]) > 0.8].tolist()\n",
    "    corr_features.remove(feature) # list of correlated features\n",
    "    for f in corr_features:\n",
    "        seen.add(f)\n",
    "        if abs(high_corrs_dict[f]) > abs(high_corrs_dict[greatest]): # if its correlation is greater\n",
    "            greatest = f\n",
    "    if greatest not in keep:\n",
    "        keep.append(greatest)"
   ]
  },
  {
   "cell_type": "code",
   "execution_count": 200,
   "metadata": {},
   "outputs": [
    {
     "data": {
      "text/plain": [
       "4"
      ]
     },
     "execution_count": 200,
     "metadata": {},
     "output_type": "execute_result"
    }
   ],
   "source": [
    "len(keep)\n",
    "# great! among 14 features, 4 of them carry the most influence on target value (Class/ transactions being fraud or normal), and the rest are redundant"
   ]
  },
  {
   "cell_type": "code",
   "execution_count": 201,
   "metadata": {},
   "outputs": [
    {
     "data": {
      "text/plain": [
       "20"
      ]
     },
     "execution_count": 201,
     "metadata": {},
     "output_type": "execute_result"
    }
   ],
   "source": [
    "# interestes columns are kept columns (previously calculated from correlations) + the ones which didn't have a high correlation with other features\n",
    "unique_cols = set(transactions.columns) - set(high_corrs_dict.keys())\n",
    "cols = keep + list(unique_cols)\n",
    "\n",
    "len(cols)\n",
    "# we've reduced attributes to 20"
   ]
  },
  {
   "cell_type": "code",
   "execution_count": 202,
   "metadata": {},
   "outputs": [
    {
     "data": {
      "text/plain": [
       "(775, 20)"
      ]
     },
     "execution_count": 202,
     "metadata": {},
     "output_type": "execute_result"
    }
   ],
   "source": [
    "transactions = transactions[cols]\n",
    "transactions.shape"
   ]
  },
  {
   "cell_type": "code",
   "execution_count": 203,
   "metadata": {},
   "outputs": [
    {
     "data": {
      "image/png": "[encoded data removed]",
      "text/plain": [
       "<Figure size 2160x432 with 1 Axes>"
      ]
     },
     "metadata": {
      "needs_background": "light"
     },
     "output_type": "display_data"
    }
   ],
   "source": [
    "# let's visualize correlations again\n",
    "corr_matrix = transactions.corr()\n",
    "\n",
    "plt.figure(figsize=(30, 6))\n",
    "corr_matrix[\"Class\"].sort_values(ascending=False).plot(kind=\"bar\", color=\"green\")\n",
    "plt.title(\"Correlation of fraud/normal transactions with non-redundant and influential attributes\", fontsize=16)\n",
    "plt.xlabel(\"Features\")\n",
    "plt.ylabel(\"Correlation\")\n",
    "plt.xticks(rotation=45, ha=\"right\")\n",
    "plt.show()"
   ]
  },
  {
   "cell_type": "markdown",
   "metadata": {
    "id": "dOVGgm0_2-ZB"
   },
   "source": [
    "# 6. Automating preprocessing using pipelines"
   ]
  },
  {
   "cell_type": "code",
   "execution_count": 204,
   "metadata": {},
   "outputs": [],
   "source": [
    "# datasets to feed the models\n",
    "\n",
    "transactions_train.drop_duplicates(inplace = True) # drop duplicate rows\n",
    "\n",
    "# y\n",
    "transactions_target = transactions_train.pop(\"Class\") # separate target feature\n",
    "\n",
    "# Xs\n",
    "cols.remove(\"Class\") # Class is the target feature, so it should be dropped from features\n",
    "transactions = transactions_train[cols] # only interestes columns as describe above "
   ]
  },
  {
   "cell_type": "code",
   "execution_count": 205,
   "metadata": {
    "id": "hjew_K5H3O6f"
   },
   "outputs": [],
   "source": [
    "from sklearn.pipeline import Pipeline\n",
    "from sklearn.compose import ColumnTransformer\n",
    "\n",
    "standard = [\"Time\"]\n",
    "robust = [\"Amount\"]\n",
    "preprocess_cols = standard+robust\n",
    "no_process = list(transactions.columns)\n",
    "for col in preprocess_cols:\n",
    "  no_process.remove(col)\n",
    "\n",
    "preprocessing = ColumnTransformer([\n",
    "        (\"standard\", StandardScaler(), standard),\n",
    "        (\"robust\", RobustScaler(), robust),\n",
    "        (\"passthrough\", \"passthrough\", no_process),\n",
    "    ])"
   ]
  },
  {
   "cell_type": "raw",
   "metadata": {
    "id": "FOE3qVgHA6Jm"
   },
   "source": [
    "Great! We have a preprocessing pipeline that takes the full dataset and applies the appropriate transformations to each column."
   ]
  },
  {
   "cell_type": "markdown",
   "metadata": {
    "id": "9aG_HufjBCsQ"
   },
   "source": [
    "# 7. Select and train models"
   ]
  },
  {
   "cell_type": "markdown",
   "metadata": {
    "id": "2P9Nz2g0Clb8"
   },
   "source": [
    "## 7.1 Logistic regression"
   ]
  },
  {
   "cell_type": "code",
   "execution_count": 206,
   "metadata": {
    "id": "Uo-e2PdR4nhA"
   },
   "outputs": [],
   "source": [
    "# building the model using pipeline\n",
    "from sklearn.linear_model import LogisticRegression\n",
    "\n",
    "log_reg = Pipeline([\n",
    "    (\"preprocessing\", preprocessing),\n",
    "    (\"logistic_regression\", LogisticRegression()),\n",
    "])"
   ]
  },
  {
   "cell_type": "code",
   "execution_count": 207,
   "metadata": {
    "colab": {
     "base_uri": "https://localhost:8080/",
     "height": 330
    },
    "id": "Bsag_pOg5fo0",
    "outputId": "6a3ab784-a6d2-4cae-ecc3-ddb3699fac00"
   },
   "outputs": [
    {
     "data": {
      "text/html": [
       "<style>#sk-container-id-11 {color: black;background-color: white;}#sk-container-id-11 pre{padding: 0;}#sk-container-id-11 div.sk-toggleable {background-color: white;}#sk-container-id-11 label.sk-toggleable__label {cursor: pointer;display: block;width: 100%;margin-bottom: 0;padding: 0.3em;box-sizing: border-box;text-align: center;}#sk-container-id-11 label.sk-toggleable__label-arrow:before {content: \"▸\";float: left;margin-right: 0.25em;color: #696969;}#sk-container-id-11 label.sk-toggleable__label-arrow:hover:before {color: black;}#sk-container-id-11 div.sk-estimator:hover label.sk-toggleable__label-arrow:before {color: black;}#sk-container-id-11 div.sk-toggleable__content {max-height: 0;max-width: 0;overflow: hidden;text-align: left;background-color: #f0f8ff;}#sk-container-id-11 div.sk-toggleable__content pre {margin: 0.2em;color: black;border-radius: 0.25em;background-color: #f0f8ff;}#sk-container-id-11 input.sk-toggleable__control:checked~div.sk-toggleable__content {max-height: 200px;max-width: 100%;overflow: auto;}#sk-container-id-11 input.sk-toggleable__control:checked~label.sk-toggleable__label-arrow:before {content: \"▾\";}#sk-container-id-11 div.sk-estimator input.sk-toggleable__control:checked~label.sk-toggleable__label {background-color: #d4ebff;}#sk-container-id-11 div.sk-label input.sk-toggleable__control:checked~label.sk-toggleable__label {background-color: #d4ebff;}#sk-container-id-11 input.sk-hidden--visually {border: 0;clip: rect(1px 1px 1px 1px);clip: rect(1px, 1px, 1px, 1px);height: 1px;margin: -1px;overflow: hidden;padding: 0;position: absolute;width: 1px;}#sk-container-id-11 div.sk-estimator {font-family: monospace;background-color: #f0f8ff;border: 1px dotted black;border-radius: 0.25em;box-sizing: border-box;margin-bottom: 0.5em;}#sk-container-id-11 div.sk-estimator:hover {background-color: #d4ebff;}#sk-container-id-11 div.sk-parallel-item::after {content: \"\";width: 100%;border-bottom: 1px solid gray;flex-grow: 1;}#sk-container-id-11 div.sk-label:hover label.sk-toggleable__label {background-color: #d4ebff;}#sk-container-id-11 div.sk-serial::before {content: \"\";position: absolute;border-left: 1px solid gray;box-sizing: border-box;top: 0;bottom: 0;left: 50%;z-index: 0;}#sk-container-id-11 div.sk-serial {display: flex;flex-direction: column;align-items: center;background-color: white;padding-right: 0.2em;padding-left: 0.2em;position: relative;}#sk-container-id-11 div.sk-item {position: relative;z-index: 1;}#sk-container-id-11 div.sk-parallel {display: flex;align-items: stretch;justify-content: center;background-color: white;position: relative;}#sk-container-id-11 div.sk-item::before, #sk-container-id-11 div.sk-parallel-item::before {content: \"\";position: absolute;border-left: 1px solid gray;box-sizing: border-box;top: 0;bottom: 0;left: 50%;z-index: -1;}#sk-container-id-11 div.sk-parallel-item {display: flex;flex-direction: column;z-index: 1;position: relative;background-color: white;}#sk-container-id-11 div.sk-parallel-item:first-child::after {align-self: flex-end;width: 50%;}#sk-container-id-11 div.sk-parallel-item:last-child::after {align-self: flex-start;width: 50%;}#sk-container-id-11 div.sk-parallel-item:only-child::after {width: 0;}#sk-container-id-11 div.sk-dashed-wrapped {border: 1px dashed gray;margin: 0 0.4em 0.5em 0.4em;box-sizing: border-box;padding-bottom: 0.4em;background-color: white;}#sk-container-id-11 div.sk-label label {font-family: monospace;font-weight: bold;display: inline-block;line-height: 1.2em;}#sk-container-id-11 div.sk-label-container {text-align: center;}#sk-container-id-11 div.sk-container {/* jupyter's `normalize.less` sets `[hidden] { display: none; }` but bootstrap.min.css set `[hidden] { display: none !important; }` so we also need the `!important` here to be able to override the default hidden behavior on the sphinx rendered scikit-learn.org. See: https://github.com/scikit-learn/scikit-learn/issues/21755 */display: inline-block !important;position: relative;}#sk-container-id-11 div.sk-text-repr-fallback {display: none;}</style><div id=\"sk-container-id-11\" class=\"sk-top-container\"><div class=\"sk-text-repr-fallback\"><pre>Pipeline(steps=[(&#x27;preprocessing&#x27;,\n",
       "                 ColumnTransformer(transformers=[(&#x27;standard&#x27;, StandardScaler(),\n",
       "                                                  [&#x27;Time&#x27;]),\n",
       "                                                 (&#x27;robust&#x27;, RobustScaler(),\n",
       "                                                  [&#x27;Amount&#x27;]),\n",
       "                                                 (&#x27;passthrough&#x27;, &#x27;passthrough&#x27;,\n",
       "                                                  [&#x27;V3&#x27;, &#x27;V4&#x27;, &#x27;V14&#x27;, &#x27;V16&#x27;,\n",
       "                                                   &#x27;V19&#x27;, &#x27;V22&#x27;, &#x27;V24&#x27;, &#x27;V21&#x27;,\n",
       "                                                   &#x27;V27&#x27;, &#x27;V6&#x27;, &#x27;V13&#x27;, &#x27;V15&#x27;,\n",
       "                                                   &#x27;V23&#x27;, &#x27;V28&#x27;, &#x27;V20&#x27;, &#x27;V26&#x27;,\n",
       "                                                   &#x27;V8&#x27;])])),\n",
       "                (&#x27;logistic_regression&#x27;, LogisticRegression())])</pre><b>In a Jupyter environment, please rerun this cell to show the HTML representation or trust the notebook. <br />On GitHub, the HTML representation is unable to render, please try loading this page with nbviewer.org.</b></div><div class=\"sk-container\" hidden><div class=\"sk-item sk-dashed-wrapped\"><div class=\"sk-label-container\"><div class=\"sk-label sk-toggleable\"><input class=\"sk-toggleable__control sk-hidden--visually\" id=\"sk-estimator-id-93\" type=\"checkbox\" ><label for=\"sk-estimator-id-93\" class=\"sk-toggleable__label sk-toggleable__label-arrow\">Pipeline</label><div class=\"sk-toggleable__content\"><pre>Pipeline(steps=[(&#x27;preprocessing&#x27;,\n",
       "                 ColumnTransformer(transformers=[(&#x27;standard&#x27;, StandardScaler(),\n",
       "                                                  [&#x27;Time&#x27;]),\n",
       "                                                 (&#x27;robust&#x27;, RobustScaler(),\n",
       "                                                  [&#x27;Amount&#x27;]),\n",
       "                                                 (&#x27;passthrough&#x27;, &#x27;passthrough&#x27;,\n",
       "                                                  [&#x27;V3&#x27;, &#x27;V4&#x27;, &#x27;V14&#x27;, &#x27;V16&#x27;,\n",
       "                                                   &#x27;V19&#x27;, &#x27;V22&#x27;, &#x27;V24&#x27;, &#x27;V21&#x27;,\n",
       "                                                   &#x27;V27&#x27;, &#x27;V6&#x27;, &#x27;V13&#x27;, &#x27;V15&#x27;,\n",
       "                                                   &#x27;V23&#x27;, &#x27;V28&#x27;, &#x27;V20&#x27;, &#x27;V26&#x27;,\n",
       "                                                   &#x27;V8&#x27;])])),\n",
       "                (&#x27;logistic_regression&#x27;, LogisticRegression())])</pre></div></div></div><div class=\"sk-serial\"><div class=\"sk-item sk-dashed-wrapped\"><div class=\"sk-label-container\"><div class=\"sk-label sk-toggleable\"><input class=\"sk-toggleable__control sk-hidden--visually\" id=\"sk-estimator-id-94\" type=\"checkbox\" ><label for=\"sk-estimator-id-94\" class=\"sk-toggleable__label sk-toggleable__label-arrow\">preprocessing: ColumnTransformer</label><div class=\"sk-toggleable__content\"><pre>ColumnTransformer(transformers=[(&#x27;standard&#x27;, StandardScaler(), [&#x27;Time&#x27;]),\n",
       "                                (&#x27;robust&#x27;, RobustScaler(), [&#x27;Amount&#x27;]),\n",
       "                                (&#x27;passthrough&#x27;, &#x27;passthrough&#x27;,\n",
       "                                 [&#x27;V3&#x27;, &#x27;V4&#x27;, &#x27;V14&#x27;, &#x27;V16&#x27;, &#x27;V19&#x27;, &#x27;V22&#x27;, &#x27;V24&#x27;,\n",
       "                                  &#x27;V21&#x27;, &#x27;V27&#x27;, &#x27;V6&#x27;, &#x27;V13&#x27;, &#x27;V15&#x27;, &#x27;V23&#x27;,\n",
       "                                  &#x27;V28&#x27;, &#x27;V20&#x27;, &#x27;V26&#x27;, &#x27;V8&#x27;])])</pre></div></div></div><div class=\"sk-parallel\"><div class=\"sk-parallel-item\"><div class=\"sk-item\"><div class=\"sk-label-container\"><div class=\"sk-label sk-toggleable\"><input class=\"sk-toggleable__control sk-hidden--visually\" id=\"sk-estimator-id-95\" type=\"checkbox\" ><label for=\"sk-estimator-id-95\" class=\"sk-toggleable__label sk-toggleable__label-arrow\">standard</label><div class=\"sk-toggleable__content\"><pre>[&#x27;Time&#x27;]</pre></div></div></div><div class=\"sk-serial\"><div class=\"sk-item\"><div class=\"sk-estimator sk-toggleable\"><input class=\"sk-toggleable__control sk-hidden--visually\" id=\"sk-estimator-id-96\" type=\"checkbox\" ><label for=\"sk-estimator-id-96\" class=\"sk-toggleable__label sk-toggleable__label-arrow\">StandardScaler</label><div class=\"sk-toggleable__content\"><pre>StandardScaler()</pre></div></div></div></div></div></div><div class=\"sk-parallel-item\"><div class=\"sk-item\"><div class=\"sk-label-container\"><div class=\"sk-label sk-toggleable\"><input class=\"sk-toggleable__control sk-hidden--visually\" id=\"sk-estimator-id-97\" type=\"checkbox\" ><label for=\"sk-estimator-id-97\" class=\"sk-toggleable__label sk-toggleable__label-arrow\">robust</label><div class=\"sk-toggleable__content\"><pre>[&#x27;Amount&#x27;]</pre></div></div></div><div class=\"sk-serial\"><div class=\"sk-item\"><div class=\"sk-estimator sk-toggleable\"><input class=\"sk-toggleable__control sk-hidden--visually\" id=\"sk-estimator-id-98\" type=\"checkbox\" ><label for=\"sk-estimator-id-98\" class=\"sk-toggleable__label sk-toggleable__label-arrow\">RobustScaler</label><div class=\"sk-toggleable__content\"><pre>RobustScaler()</pre></div></div></div></div></div></div><div class=\"sk-parallel-item\"><div class=\"sk-item\"><div class=\"sk-label-container\"><div class=\"sk-label sk-toggleable\"><input class=\"sk-toggleable__control sk-hidden--visually\" id=\"sk-estimator-id-99\" type=\"checkbox\" ><label for=\"sk-estimator-id-99\" class=\"sk-toggleable__label sk-toggleable__label-arrow\">passthrough</label><div class=\"sk-toggleable__content\"><pre>[&#x27;V3&#x27;, &#x27;V4&#x27;, &#x27;V14&#x27;, &#x27;V16&#x27;, &#x27;V19&#x27;, &#x27;V22&#x27;, &#x27;V24&#x27;, &#x27;V21&#x27;, &#x27;V27&#x27;, &#x27;V6&#x27;, &#x27;V13&#x27;, &#x27;V15&#x27;, &#x27;V23&#x27;, &#x27;V28&#x27;, &#x27;V20&#x27;, &#x27;V26&#x27;, &#x27;V8&#x27;]</pre></div></div></div><div class=\"sk-serial\"><div class=\"sk-item\"><div class=\"sk-estimator sk-toggleable\"><input class=\"sk-toggleable__control sk-hidden--visually\" id=\"sk-estimator-id-100\" type=\"checkbox\" ><label for=\"sk-estimator-id-100\" class=\"sk-toggleable__label sk-toggleable__label-arrow\">passthrough</label><div class=\"sk-toggleable__content\"><pre>passthrough</pre></div></div></div></div></div></div></div></div><div class=\"sk-item\"><div class=\"sk-estimator sk-toggleable\"><input class=\"sk-toggleable__control sk-hidden--visually\" id=\"sk-estimator-id-101\" type=\"checkbox\" ><label for=\"sk-estimator-id-101\" class=\"sk-toggleable__label sk-toggleable__label-arrow\">LogisticRegression</label><div class=\"sk-toggleable__content\"><pre>LogisticRegression()</pre></div></div></div></div></div></div></div>"
      ],
      "text/plain": [
       "Pipeline(steps=[('preprocessing',\n",
       "                 ColumnTransformer(transformers=[('standard', StandardScaler(),\n",
       "                                                  ['Time']),\n",
       "                                                 ('robust', RobustScaler(),\n",
       "                                                  ['Amount']),\n",
       "                                                 ('passthrough', 'passthrough',\n",
       "                                                  ['V3', 'V4', 'V14', 'V16',\n",
       "                                                   'V19', 'V22', 'V24', 'V21',\n",
       "                                                   'V27', 'V6', 'V13', 'V15',\n",
       "                                                   'V23', 'V28', 'V20', 'V26',\n",
       "                                                   'V8'])])),\n",
       "                ('logistic_regression', LogisticRegression())])"
      ]
     },
     "execution_count": 207,
     "metadata": {},
     "output_type": "execute_result"
    }
   ],
   "source": [
    "# train the model\n",
    "log_reg.fit(transactions, transactions_target)"
   ]
  },
  {
   "cell_type": "code",
   "execution_count": 208,
   "metadata": {
    "colab": {
     "base_uri": "https://localhost:8080/"
    },
    "id": "Ij-SXHrjDikB",
    "outputId": "bbd3e2f1-3a0f-4a2f-9ffc-a6e90ea5f0e2"
   },
   "outputs": [
    {
     "name": "stdout",
     "output_type": "stream",
     "text": [
      "              precision    recall  f1-score   support\n",
      "\n",
      "   Not Fraud       0.92      0.97      0.94       394\n",
      "       Fraud       0.97      0.91      0.94       381\n",
      "\n",
      "    accuracy                           0.94       775\n",
      "   macro avg       0.94      0.94      0.94       775\n",
      "weighted avg       0.94      0.94      0.94       775\n",
      "\n"
     ]
    }
   ],
   "source": [
    "# calculate evaluation metric using precision and recall\n",
    "from sklearn.metrics import classification_report\n",
    "\n",
    "log_predictions = log_reg.predict(transactions)\n",
    "print(classification_report(transactions_target, log_predictions, target_names = [\"Not Fraud\", \"Fraud\"]))"
   ]
  },
  {
   "cell_type": "raw",
   "metadata": {},
   "source": [
    "not fraud precision: means out of all predicted normal transactions; 92% are actually normal but 8% of them are fraud (incorrectly labeld as normal)\n",
    "not fraud recall: means out of all actual normal transactions; 97% are predicted correctly but 3% are missed (they are normal but incorrectly predicted as fraud)"
   ]
  },
  {
   "cell_type": "raw",
   "metadata": {
    "id": "aMqtDnxXGJN5"
   },
   "source": [
    "fraud precision: means out of all predicted fraud transactions; 97% are actually fraud but 3% of them are normal (incorrectly labeld as fraud)\n",
    "fraud recall: means out of all actual fraud transactions; 91% are predicted correctly but 9% are missed. (they are fraud but incorrectly predicted as normal)"
   ]
  },
  {
   "cell_type": "code",
   "execution_count": 209,
   "metadata": {},
   "outputs": [
    {
     "name": "stdout",
     "output_type": "stream",
     "text": [
      "Mean CV F1-Score of logistic regression: 0.9377893960123185\n",
      "Standard Deviation of CV F1-Scores of logistic regression: 0.015833081116849963\n"
     ]
    }
   ],
   "source": [
    "# cross-validation\n",
    "from sklearn.model_selection import KFold, cross_val_score\n",
    "\n",
    "cv_scores = cross_val_score(log_reg, transactions, transactions_target, cv=5, scoring='f1')\n",
    "\n",
    "# Calculate mean and standard deviation of cross-validation scores\n",
    "mean_cv_score = cv_scores.mean()\n",
    "std_cv_score = cv_scores.std()\n",
    "\n",
    "# Print mean and standard deviation of cross-validation scores\n",
    "print(\"Mean CV F1-Score of logistic regression:\", mean_cv_score)\n",
    "print(\"Standard Deviation of CV F1-Scores of logistic regression:\", std_cv_score)"
   ]
  },
  {
   "cell_type": "markdown",
   "metadata": {
    "id": "Z05W0Hyp4HvU"
   },
   "source": [
    "## 7.2 KNN"
   ]
  },
  {
   "cell_type": "code",
   "execution_count": 210,
   "metadata": {
    "id": "hcX8Zr2B4Mv4"
   },
   "outputs": [],
   "source": [
    "# building the model using pipeline\n",
    "from sklearn.neighbors import KNeighborsClassifier\n",
    "\n",
    "knn = Pipeline([\n",
    "    (\"preprocessing\", preprocessing),\n",
    "    (\"KNN\", KNeighborsClassifier()),\n",
    "])"
   ]
  },
  {
   "cell_type": "code",
   "execution_count": 211,
   "metadata": {
    "colab": {
     "base_uri": "https://localhost:8080/",
     "height": 191
    },
    "id": "2apyIjJQ4giN",
    "outputId": "c2106a00-ec14-4ab1-d63f-a2792c4a2b2d"
   },
   "outputs": [
    {
     "data": {
      "text/html": [
       "<style>#sk-container-id-12 {color: black;background-color: white;}#sk-container-id-12 pre{padding: 0;}#sk-container-id-12 div.sk-toggleable {background-color: white;}#sk-container-id-12 label.sk-toggleable__label {cursor: pointer;display: block;width: 100%;margin-bottom: 0;padding: 0.3em;box-sizing: border-box;text-align: center;}#sk-container-id-12 label.sk-toggleable__label-arrow:before {content: \"▸\";float: left;margin-right: 0.25em;color: #696969;}#sk-container-id-12 label.sk-toggleable__label-arrow:hover:before {color: black;}#sk-container-id-12 div.sk-estimator:hover label.sk-toggleable__label-arrow:before {color: black;}#sk-container-id-12 div.sk-toggleable__content {max-height: 0;max-width: 0;overflow: hidden;text-align: left;background-color: #f0f8ff;}#sk-container-id-12 div.sk-toggleable__content pre {margin: 0.2em;color: black;border-radius: 0.25em;background-color: #f0f8ff;}#sk-container-id-12 input.sk-toggleable__control:checked~div.sk-toggleable__content {max-height: 200px;max-width: 100%;overflow: auto;}#sk-container-id-12 input.sk-toggleable__control:checked~label.sk-toggleable__label-arrow:before {content: \"▾\";}#sk-container-id-12 div.sk-estimator input.sk-toggleable__control:checked~label.sk-toggleable__label {background-color: #d4ebff;}#sk-container-id-12 div.sk-label input.sk-toggleable__control:checked~label.sk-toggleable__label {background-color: #d4ebff;}#sk-container-id-12 input.sk-hidden--visually {border: 0;clip: rect(1px 1px 1px 1px);clip: rect(1px, 1px, 1px, 1px);height: 1px;margin: -1px;overflow: hidden;padding: 0;position: absolute;width: 1px;}#sk-container-id-12 div.sk-estimator {font-family: monospace;background-color: #f0f8ff;border: 1px dotted black;border-radius: 0.25em;box-sizing: border-box;margin-bottom: 0.5em;}#sk-container-id-12 div.sk-estimator:hover {background-color: #d4ebff;}#sk-container-id-12 div.sk-parallel-item::after {content: \"\";width: 100%;border-bottom: 1px solid gray;flex-grow: 1;}#sk-container-id-12 div.sk-label:hover label.sk-toggleable__label {background-color: #d4ebff;}#sk-container-id-12 div.sk-serial::before {content: \"\";position: absolute;border-left: 1px solid gray;box-sizing: border-box;top: 0;bottom: 0;left: 50%;z-index: 0;}#sk-container-id-12 div.sk-serial {display: flex;flex-direction: column;align-items: center;background-color: white;padding-right: 0.2em;padding-left: 0.2em;position: relative;}#sk-container-id-12 div.sk-item {position: relative;z-index: 1;}#sk-container-id-12 div.sk-parallel {display: flex;align-items: stretch;justify-content: center;background-color: white;position: relative;}#sk-container-id-12 div.sk-item::before, #sk-container-id-12 div.sk-parallel-item::before {content: \"\";position: absolute;border-left: 1px solid gray;box-sizing: border-box;top: 0;bottom: 0;left: 50%;z-index: -1;}#sk-container-id-12 div.sk-parallel-item {display: flex;flex-direction: column;z-index: 1;position: relative;background-color: white;}#sk-container-id-12 div.sk-parallel-item:first-child::after {align-self: flex-end;width: 50%;}#sk-container-id-12 div.sk-parallel-item:last-child::after {align-self: flex-start;width: 50%;}#sk-container-id-12 div.sk-parallel-item:only-child::after {width: 0;}#sk-container-id-12 div.sk-dashed-wrapped {border: 1px dashed gray;margin: 0 0.4em 0.5em 0.4em;box-sizing: border-box;padding-bottom: 0.4em;background-color: white;}#sk-container-id-12 div.sk-label label {font-family: monospace;font-weight: bold;display: inline-block;line-height: 1.2em;}#sk-container-id-12 div.sk-label-container {text-align: center;}#sk-container-id-12 div.sk-container {/* jupyter's `normalize.less` sets `[hidden] { display: none; }` but bootstrap.min.css set `[hidden] { display: none !important; }` so we also need the `!important` here to be able to override the default hidden behavior on the sphinx rendered scikit-learn.org. See: https://github.com/scikit-learn/scikit-learn/issues/21755 */display: inline-block !important;position: relative;}#sk-container-id-12 div.sk-text-repr-fallback {display: none;}</style><div id=\"sk-container-id-12\" class=\"sk-top-container\"><div class=\"sk-text-repr-fallback\"><pre>Pipeline(steps=[(&#x27;preprocessing&#x27;,\n",
       "                 ColumnTransformer(transformers=[(&#x27;standard&#x27;, StandardScaler(),\n",
       "                                                  [&#x27;Time&#x27;]),\n",
       "                                                 (&#x27;robust&#x27;, RobustScaler(),\n",
       "                                                  [&#x27;Amount&#x27;]),\n",
       "                                                 (&#x27;passthrough&#x27;, &#x27;passthrough&#x27;,\n",
       "                                                  [&#x27;V3&#x27;, &#x27;V4&#x27;, &#x27;V14&#x27;, &#x27;V16&#x27;,\n",
       "                                                   &#x27;V19&#x27;, &#x27;V22&#x27;, &#x27;V24&#x27;, &#x27;V21&#x27;,\n",
       "                                                   &#x27;V27&#x27;, &#x27;V6&#x27;, &#x27;V13&#x27;, &#x27;V15&#x27;,\n",
       "                                                   &#x27;V23&#x27;, &#x27;V28&#x27;, &#x27;V20&#x27;, &#x27;V26&#x27;,\n",
       "                                                   &#x27;V8&#x27;])])),\n",
       "                (&#x27;KNN&#x27;, KNeighborsClassifier())])</pre><b>In a Jupyter environment, please rerun this cell to show the HTML representation or trust the notebook. <br />On GitHub, the HTML representation is unable to render, please try loading this page with nbviewer.org.</b></div><div class=\"sk-container\" hidden><div class=\"sk-item sk-dashed-wrapped\"><div class=\"sk-label-container\"><div class=\"sk-label sk-toggleable\"><input class=\"sk-toggleable__control sk-hidden--visually\" id=\"sk-estimator-id-102\" type=\"checkbox\" ><label for=\"sk-estimator-id-102\" class=\"sk-toggleable__label sk-toggleable__label-arrow\">Pipeline</label><div class=\"sk-toggleable__content\"><pre>Pipeline(steps=[(&#x27;preprocessing&#x27;,\n",
       "                 ColumnTransformer(transformers=[(&#x27;standard&#x27;, StandardScaler(),\n",
       "                                                  [&#x27;Time&#x27;]),\n",
       "                                                 (&#x27;robust&#x27;, RobustScaler(),\n",
       "                                                  [&#x27;Amount&#x27;]),\n",
       "                                                 (&#x27;passthrough&#x27;, &#x27;passthrough&#x27;,\n",
       "                                                  [&#x27;V3&#x27;, &#x27;V4&#x27;, &#x27;V14&#x27;, &#x27;V16&#x27;,\n",
       "                                                   &#x27;V19&#x27;, &#x27;V22&#x27;, &#x27;V24&#x27;, &#x27;V21&#x27;,\n",
       "                                                   &#x27;V27&#x27;, &#x27;V6&#x27;, &#x27;V13&#x27;, &#x27;V15&#x27;,\n",
       "                                                   &#x27;V23&#x27;, &#x27;V28&#x27;, &#x27;V20&#x27;, &#x27;V26&#x27;,\n",
       "                                                   &#x27;V8&#x27;])])),\n",
       "                (&#x27;KNN&#x27;, KNeighborsClassifier())])</pre></div></div></div><div class=\"sk-serial\"><div class=\"sk-item sk-dashed-wrapped\"><div class=\"sk-label-container\"><div class=\"sk-label sk-toggleable\"><input class=\"sk-toggleable__control sk-hidden--visually\" id=\"sk-estimator-id-103\" type=\"checkbox\" ><label for=\"sk-estimator-id-103\" class=\"sk-toggleable__label sk-toggleable__label-arrow\">preprocessing: ColumnTransformer</label><div class=\"sk-toggleable__content\"><pre>ColumnTransformer(transformers=[(&#x27;standard&#x27;, StandardScaler(), [&#x27;Time&#x27;]),\n",
       "                                (&#x27;robust&#x27;, RobustScaler(), [&#x27;Amount&#x27;]),\n",
       "                                (&#x27;passthrough&#x27;, &#x27;passthrough&#x27;,\n",
       "                                 [&#x27;V3&#x27;, &#x27;V4&#x27;, &#x27;V14&#x27;, &#x27;V16&#x27;, &#x27;V19&#x27;, &#x27;V22&#x27;, &#x27;V24&#x27;,\n",
       "                                  &#x27;V21&#x27;, &#x27;V27&#x27;, &#x27;V6&#x27;, &#x27;V13&#x27;, &#x27;V15&#x27;, &#x27;V23&#x27;,\n",
       "                                  &#x27;V28&#x27;, &#x27;V20&#x27;, &#x27;V26&#x27;, &#x27;V8&#x27;])])</pre></div></div></div><div class=\"sk-parallel\"><div class=\"sk-parallel-item\"><div class=\"sk-item\"><div class=\"sk-label-container\"><div class=\"sk-label sk-toggleable\"><input class=\"sk-toggleable__control sk-hidden--visually\" id=\"sk-estimator-id-104\" type=\"checkbox\" ><label for=\"sk-estimator-id-104\" class=\"sk-toggleable__label sk-toggleable__label-arrow\">standard</label><div class=\"sk-toggleable__content\"><pre>[&#x27;Time&#x27;]</pre></div></div></div><div class=\"sk-serial\"><div class=\"sk-item\"><div class=\"sk-estimator sk-toggleable\"><input class=\"sk-toggleable__control sk-hidden--visually\" id=\"sk-estimator-id-105\" type=\"checkbox\" ><label for=\"sk-estimator-id-105\" class=\"sk-toggleable__label sk-toggleable__label-arrow\">StandardScaler</label><div class=\"sk-toggleable__content\"><pre>StandardScaler()</pre></div></div></div></div></div></div><div class=\"sk-parallel-item\"><div class=\"sk-item\"><div class=\"sk-label-container\"><div class=\"sk-label sk-toggleable\"><input class=\"sk-toggleable__control sk-hidden--visually\" id=\"sk-estimator-id-106\" type=\"checkbox\" ><label for=\"sk-estimator-id-106\" class=\"sk-toggleable__label sk-toggleable__label-arrow\">robust</label><div class=\"sk-toggleable__content\"><pre>[&#x27;Amount&#x27;]</pre></div></div></div><div class=\"sk-serial\"><div class=\"sk-item\"><div class=\"sk-estimator sk-toggleable\"><input class=\"sk-toggleable__control sk-hidden--visually\" id=\"sk-estimator-id-107\" type=\"checkbox\" ><label for=\"sk-estimator-id-107\" class=\"sk-toggleable__label sk-toggleable__label-arrow\">RobustScaler</label><div class=\"sk-toggleable__content\"><pre>RobustScaler()</pre></div></div></div></div></div></div><div class=\"sk-parallel-item\"><div class=\"sk-item\"><div class=\"sk-label-container\"><div class=\"sk-label sk-toggleable\"><input class=\"sk-toggleable__control sk-hidden--visually\" id=\"sk-estimator-id-108\" type=\"checkbox\" ><label for=\"sk-estimator-id-108\" class=\"sk-toggleable__label sk-toggleable__label-arrow\">passthrough</label><div class=\"sk-toggleable__content\"><pre>[&#x27;V3&#x27;, &#x27;V4&#x27;, &#x27;V14&#x27;, &#x27;V16&#x27;, &#x27;V19&#x27;, &#x27;V22&#x27;, &#x27;V24&#x27;, &#x27;V21&#x27;, &#x27;V27&#x27;, &#x27;V6&#x27;, &#x27;V13&#x27;, &#x27;V15&#x27;, &#x27;V23&#x27;, &#x27;V28&#x27;, &#x27;V20&#x27;, &#x27;V26&#x27;, &#x27;V8&#x27;]</pre></div></div></div><div class=\"sk-serial\"><div class=\"sk-item\"><div class=\"sk-estimator sk-toggleable\"><input class=\"sk-toggleable__control sk-hidden--visually\" id=\"sk-estimator-id-109\" type=\"checkbox\" ><label for=\"sk-estimator-id-109\" class=\"sk-toggleable__label sk-toggleable__label-arrow\">passthrough</label><div class=\"sk-toggleable__content\"><pre>passthrough</pre></div></div></div></div></div></div></div></div><div class=\"sk-item\"><div class=\"sk-estimator sk-toggleable\"><input class=\"sk-toggleable__control sk-hidden--visually\" id=\"sk-estimator-id-110\" type=\"checkbox\" ><label for=\"sk-estimator-id-110\" class=\"sk-toggleable__label sk-toggleable__label-arrow\">KNeighborsClassifier</label><div class=\"sk-toggleable__content\"><pre>KNeighborsClassifier()</pre></div></div></div></div></div></div></div>"
      ],
      "text/plain": [
       "Pipeline(steps=[('preprocessing',\n",
       "                 ColumnTransformer(transformers=[('standard', StandardScaler(),\n",
       "                                                  ['Time']),\n",
       "                                                 ('robust', RobustScaler(),\n",
       "                                                  ['Amount']),\n",
       "                                                 ('passthrough', 'passthrough',\n",
       "                                                  ['V3', 'V4', 'V14', 'V16',\n",
       "                                                   'V19', 'V22', 'V24', 'V21',\n",
       "                                                   'V27', 'V6', 'V13', 'V15',\n",
       "                                                   'V23', 'V28', 'V20', 'V26',\n",
       "                                                   'V8'])])),\n",
       "                ('KNN', KNeighborsClassifier())])"
      ]
     },
     "execution_count": 211,
     "metadata": {},
     "output_type": "execute_result"
    }
   ],
   "source": [
    "# train the model\n",
    "knn.fit(transactions, transactions_target)"
   ]
  },
  {
   "cell_type": "code",
   "execution_count": 212,
   "metadata": {
    "colab": {
     "base_uri": "https://localhost:8080/"
    },
    "id": "ByeOltgi49BP",
    "outputId": "113bd63a-f77b-4f0c-c4f7-a39eef52c439"
   },
   "outputs": [
    {
     "name": "stdout",
     "output_type": "stream",
     "text": [
      "              precision    recall  f1-score   support\n",
      "\n",
      "   Not Fraud       0.91      0.98      0.95       394\n",
      "       Fraud       0.98      0.90      0.94       381\n",
      "\n",
      "    accuracy                           0.94       775\n",
      "   macro avg       0.95      0.94      0.94       775\n",
      "weighted avg       0.95      0.94      0.94       775\n",
      "\n"
     ]
    }
   ],
   "source": [
    "# calculate evaluation metric using precision and recall\n",
    "\n",
    "knn_predictions = knn.predict(transactions)\n",
    "print(classification_report(transactions_target, knn_predictions, target_names = [\"Not Fraud\", \"Fraud\"]))"
   ]
  },
  {
   "cell_type": "raw",
   "metadata": {},
   "source": [
    "not fraud precision: means out of all predicted normal transactions; 91% are actually normal but 9% of them are fraud (incorrectly labeld as normal)\n",
    "not fraud recall: means out of all actual normal transactions; 98% are predicted correctly but 2% are missed (they are normal but incorrectly predicted as fraud)"
   ]
  },
  {
   "cell_type": "raw",
   "metadata": {
    "id": "h0axm0KC7iXS"
   },
   "source": [
    "fraud precision: means out of all predicted fraud transactions; 98% are actually fraud but 2% of them are normal (incorrectly labeld as fraud)\n",
    "fraud recall: means out of all actual fraud transactions; 90% are predicted correctly but 10% are missed. (they are fraud but incorrectly predicted as normal)"
   ]
  },
  {
   "cell_type": "code",
   "execution_count": 213,
   "metadata": {},
   "outputs": [
    {
     "name": "stdout",
     "output_type": "stream",
     "text": [
      "Mean CV F1-Score of KNN: 0.9107122762295177\n",
      "Standard Deviation of CV F1-Scores of KNN: 0.017907125931469123\n"
     ]
    }
   ],
   "source": [
    "# cross-validation\n",
    "\n",
    "cv_scores = cross_val_score(knn, transactions, transactions_target, cv=5, scoring='f1')\n",
    "\n",
    "# Calculate mean and standard deviation of cross-validation scores\n",
    "mean_cv_score = cv_scores.mean()\n",
    "std_cv_score = cv_scores.std()\n",
    "\n",
    "# Print mean and standard deviation of cross-validation scores\n",
    "print(\"Mean CV F1-Score of KNN:\", mean_cv_score)\n",
    "print(\"Standard Deviation of CV F1-Scores of KNN:\", std_cv_score)"
   ]
  },
  {
   "cell_type": "markdown",
   "metadata": {
    "id": "gd4OvSUH9RTL"
   },
   "source": [
    "## 7.3 Support vector machine"
   ]
  },
  {
   "cell_type": "code",
   "execution_count": 214,
   "metadata": {
    "id": "USFpakfZ9V0n"
   },
   "outputs": [],
   "source": [
    "# building the model using pipeline\n",
    "from sklearn.svm import SVC\n",
    "\n",
    "svm = Pipeline([\n",
    "    (\"preprocessing\", preprocessing),\n",
    "    (\"svm\", SVC(kernel='linear')),\n",
    "])"
   ]
  },
  {
   "cell_type": "code",
   "execution_count": 215,
   "metadata": {
    "id": "PiCkWfJP_G76"
   },
   "outputs": [
    {
     "data": {
      "text/html": [
       "<style>#sk-container-id-13 {color: black;background-color: white;}#sk-container-id-13 pre{padding: 0;}#sk-container-id-13 div.sk-toggleable {background-color: white;}#sk-container-id-13 label.sk-toggleable__label {cursor: pointer;display: block;width: 100%;margin-bottom: 0;padding: 0.3em;box-sizing: border-box;text-align: center;}#sk-container-id-13 label.sk-toggleable__label-arrow:before {content: \"▸\";float: left;margin-right: 0.25em;color: #696969;}#sk-container-id-13 label.sk-toggleable__label-arrow:hover:before {color: black;}#sk-container-id-13 div.sk-estimator:hover label.sk-toggleable__label-arrow:before {color: black;}#sk-container-id-13 div.sk-toggleable__content {max-height: 0;max-width: 0;overflow: hidden;text-align: left;background-color: #f0f8ff;}#sk-container-id-13 div.sk-toggleable__content pre {margin: 0.2em;color: black;border-radius: 0.25em;background-color: #f0f8ff;}#sk-container-id-13 input.sk-toggleable__control:checked~div.sk-toggleable__content {max-height: 200px;max-width: 100%;overflow: auto;}#sk-container-id-13 input.sk-toggleable__control:checked~label.sk-toggleable__label-arrow:before {content: \"▾\";}#sk-container-id-13 div.sk-estimator input.sk-toggleable__control:checked~label.sk-toggleable__label {background-color: #d4ebff;}#sk-container-id-13 div.sk-label input.sk-toggleable__control:checked~label.sk-toggleable__label {background-color: #d4ebff;}#sk-container-id-13 input.sk-hidden--visually {border: 0;clip: rect(1px 1px 1px 1px);clip: rect(1px, 1px, 1px, 1px);height: 1px;margin: -1px;overflow: hidden;padding: 0;position: absolute;width: 1px;}#sk-container-id-13 div.sk-estimator {font-family: monospace;background-color: #f0f8ff;border: 1px dotted black;border-radius: 0.25em;box-sizing: border-box;margin-bottom: 0.5em;}#sk-container-id-13 div.sk-estimator:hover {background-color: #d4ebff;}#sk-container-id-13 div.sk-parallel-item::after {content: \"\";width: 100%;border-bottom: 1px solid gray;flex-grow: 1;}#sk-container-id-13 div.sk-label:hover label.sk-toggleable__label {background-color: #d4ebff;}#sk-container-id-13 div.sk-serial::before {content: \"\";position: absolute;border-left: 1px solid gray;box-sizing: border-box;top: 0;bottom: 0;left: 50%;z-index: 0;}#sk-container-id-13 div.sk-serial {display: flex;flex-direction: column;align-items: center;background-color: white;padding-right: 0.2em;padding-left: 0.2em;position: relative;}#sk-container-id-13 div.sk-item {position: relative;z-index: 1;}#sk-container-id-13 div.sk-parallel {display: flex;align-items: stretch;justify-content: center;background-color: white;position: relative;}#sk-container-id-13 div.sk-item::before, #sk-container-id-13 div.sk-parallel-item::before {content: \"\";position: absolute;border-left: 1px solid gray;box-sizing: border-box;top: 0;bottom: 0;left: 50%;z-index: -1;}#sk-container-id-13 div.sk-parallel-item {display: flex;flex-direction: column;z-index: 1;position: relative;background-color: white;}#sk-container-id-13 div.sk-parallel-item:first-child::after {align-self: flex-end;width: 50%;}#sk-container-id-13 div.sk-parallel-item:last-child::after {align-self: flex-start;width: 50%;}#sk-container-id-13 div.sk-parallel-item:only-child::after {width: 0;}#sk-container-id-13 div.sk-dashed-wrapped {border: 1px dashed gray;margin: 0 0.4em 0.5em 0.4em;box-sizing: border-box;padding-bottom: 0.4em;background-color: white;}#sk-container-id-13 div.sk-label label {font-family: monospace;font-weight: bold;display: inline-block;line-height: 1.2em;}#sk-container-id-13 div.sk-label-container {text-align: center;}#sk-container-id-13 div.sk-container {/* jupyter's `normalize.less` sets `[hidden] { display: none; }` but bootstrap.min.css set `[hidden] { display: none !important; }` so we also need the `!important` here to be able to override the default hidden behavior on the sphinx rendered scikit-learn.org. See: https://github.com/scikit-learn/scikit-learn/issues/21755 */display: inline-block !important;position: relative;}#sk-container-id-13 div.sk-text-repr-fallback {display: none;}</style><div id=\"sk-container-id-13\" class=\"sk-top-container\"><div class=\"sk-text-repr-fallback\"><pre>Pipeline(steps=[(&#x27;preprocessing&#x27;,\n",
       "                 ColumnTransformer(transformers=[(&#x27;standard&#x27;, StandardScaler(),\n",
       "                                                  [&#x27;Time&#x27;]),\n",
       "                                                 (&#x27;robust&#x27;, RobustScaler(),\n",
       "                                                  [&#x27;Amount&#x27;]),\n",
       "                                                 (&#x27;passthrough&#x27;, &#x27;passthrough&#x27;,\n",
       "                                                  [&#x27;V3&#x27;, &#x27;V4&#x27;, &#x27;V14&#x27;, &#x27;V16&#x27;,\n",
       "                                                   &#x27;V19&#x27;, &#x27;V22&#x27;, &#x27;V24&#x27;, &#x27;V21&#x27;,\n",
       "                                                   &#x27;V27&#x27;, &#x27;V6&#x27;, &#x27;V13&#x27;, &#x27;V15&#x27;,\n",
       "                                                   &#x27;V23&#x27;, &#x27;V28&#x27;, &#x27;V20&#x27;, &#x27;V26&#x27;,\n",
       "                                                   &#x27;V8&#x27;])])),\n",
       "                (&#x27;svm&#x27;, SVC(kernel=&#x27;linear&#x27;))])</pre><b>In a Jupyter environment, please rerun this cell to show the HTML representation or trust the notebook. <br />On GitHub, the HTML representation is unable to render, please try loading this page with nbviewer.org.</b></div><div class=\"sk-container\" hidden><div class=\"sk-item sk-dashed-wrapped\"><div class=\"sk-label-container\"><div class=\"sk-label sk-toggleable\"><input class=\"sk-toggleable__control sk-hidden--visually\" id=\"sk-estimator-id-111\" type=\"checkbox\" ><label for=\"sk-estimator-id-111\" class=\"sk-toggleable__label sk-toggleable__label-arrow\">Pipeline</label><div class=\"sk-toggleable__content\"><pre>Pipeline(steps=[(&#x27;preprocessing&#x27;,\n",
       "                 ColumnTransformer(transformers=[(&#x27;standard&#x27;, StandardScaler(),\n",
       "                                                  [&#x27;Time&#x27;]),\n",
       "                                                 (&#x27;robust&#x27;, RobustScaler(),\n",
       "                                                  [&#x27;Amount&#x27;]),\n",
       "                                                 (&#x27;passthrough&#x27;, &#x27;passthrough&#x27;,\n",
       "                                                  [&#x27;V3&#x27;, &#x27;V4&#x27;, &#x27;V14&#x27;, &#x27;V16&#x27;,\n",
       "                                                   &#x27;V19&#x27;, &#x27;V22&#x27;, &#x27;V24&#x27;, &#x27;V21&#x27;,\n",
       "                                                   &#x27;V27&#x27;, &#x27;V6&#x27;, &#x27;V13&#x27;, &#x27;V15&#x27;,\n",
       "                                                   &#x27;V23&#x27;, &#x27;V28&#x27;, &#x27;V20&#x27;, &#x27;V26&#x27;,\n",
       "                                                   &#x27;V8&#x27;])])),\n",
       "                (&#x27;svm&#x27;, SVC(kernel=&#x27;linear&#x27;))])</pre></div></div></div><div class=\"sk-serial\"><div class=\"sk-item sk-dashed-wrapped\"><div class=\"sk-label-container\"><div class=\"sk-label sk-toggleable\"><input class=\"sk-toggleable__control sk-hidden--visually\" id=\"sk-estimator-id-112\" type=\"checkbox\" ><label for=\"sk-estimator-id-112\" class=\"sk-toggleable__label sk-toggleable__label-arrow\">preprocessing: ColumnTransformer</label><div class=\"sk-toggleable__content\"><pre>ColumnTransformer(transformers=[(&#x27;standard&#x27;, StandardScaler(), [&#x27;Time&#x27;]),\n",
       "                                (&#x27;robust&#x27;, RobustScaler(), [&#x27;Amount&#x27;]),\n",
       "                                (&#x27;passthrough&#x27;, &#x27;passthrough&#x27;,\n",
       "                                 [&#x27;V3&#x27;, &#x27;V4&#x27;, &#x27;V14&#x27;, &#x27;V16&#x27;, &#x27;V19&#x27;, &#x27;V22&#x27;, &#x27;V24&#x27;,\n",
       "                                  &#x27;V21&#x27;, &#x27;V27&#x27;, &#x27;V6&#x27;, &#x27;V13&#x27;, &#x27;V15&#x27;, &#x27;V23&#x27;,\n",
       "                                  &#x27;V28&#x27;, &#x27;V20&#x27;, &#x27;V26&#x27;, &#x27;V8&#x27;])])</pre></div></div></div><div class=\"sk-parallel\"><div class=\"sk-parallel-item\"><div class=\"sk-item\"><div class=\"sk-label-container\"><div class=\"sk-label sk-toggleable\"><input class=\"sk-toggleable__control sk-hidden--visually\" id=\"sk-estimator-id-113\" type=\"checkbox\" ><label for=\"sk-estimator-id-113\" class=\"sk-toggleable__label sk-toggleable__label-arrow\">standard</label><div class=\"sk-toggleable__content\"><pre>[&#x27;Time&#x27;]</pre></div></div></div><div class=\"sk-serial\"><div class=\"sk-item\"><div class=\"sk-estimator sk-toggleable\"><input class=\"sk-toggleable__control sk-hidden--visually\" id=\"sk-estimator-id-114\" type=\"checkbox\" ><label for=\"sk-estimator-id-114\" class=\"sk-toggleable__label sk-toggleable__label-arrow\">StandardScaler</label><div class=\"sk-toggleable__content\"><pre>StandardScaler()</pre></div></div></div></div></div></div><div class=\"sk-parallel-item\"><div class=\"sk-item\"><div class=\"sk-label-container\"><div class=\"sk-label sk-toggleable\"><input class=\"sk-toggleable__control sk-hidden--visually\" id=\"sk-estimator-id-115\" type=\"checkbox\" ><label for=\"sk-estimator-id-115\" class=\"sk-toggleable__label sk-toggleable__label-arrow\">robust</label><div class=\"sk-toggleable__content\"><pre>[&#x27;Amount&#x27;]</pre></div></div></div><div class=\"sk-serial\"><div class=\"sk-item\"><div class=\"sk-estimator sk-toggleable\"><input class=\"sk-toggleable__control sk-hidden--visually\" id=\"sk-estimator-id-116\" type=\"checkbox\" ><label for=\"sk-estimator-id-116\" class=\"sk-toggleable__label sk-toggleable__label-arrow\">RobustScaler</label><div class=\"sk-toggleable__content\"><pre>RobustScaler()</pre></div></div></div></div></div></div><div class=\"sk-parallel-item\"><div class=\"sk-item\"><div class=\"sk-label-container\"><div class=\"sk-label sk-toggleable\"><input class=\"sk-toggleable__control sk-hidden--visually\" id=\"sk-estimator-id-117\" type=\"checkbox\" ><label for=\"sk-estimator-id-117\" class=\"sk-toggleable__label sk-toggleable__label-arrow\">passthrough</label><div class=\"sk-toggleable__content\"><pre>[&#x27;V3&#x27;, &#x27;V4&#x27;, &#x27;V14&#x27;, &#x27;V16&#x27;, &#x27;V19&#x27;, &#x27;V22&#x27;, &#x27;V24&#x27;, &#x27;V21&#x27;, &#x27;V27&#x27;, &#x27;V6&#x27;, &#x27;V13&#x27;, &#x27;V15&#x27;, &#x27;V23&#x27;, &#x27;V28&#x27;, &#x27;V20&#x27;, &#x27;V26&#x27;, &#x27;V8&#x27;]</pre></div></div></div><div class=\"sk-serial\"><div class=\"sk-item\"><div class=\"sk-estimator sk-toggleable\"><input class=\"sk-toggleable__control sk-hidden--visually\" id=\"sk-estimator-id-118\" type=\"checkbox\" ><label for=\"sk-estimator-id-118\" class=\"sk-toggleable__label sk-toggleable__label-arrow\">passthrough</label><div class=\"sk-toggleable__content\"><pre>passthrough</pre></div></div></div></div></div></div></div></div><div class=\"sk-item\"><div class=\"sk-estimator sk-toggleable\"><input class=\"sk-toggleable__control sk-hidden--visually\" id=\"sk-estimator-id-119\" type=\"checkbox\" ><label for=\"sk-estimator-id-119\" class=\"sk-toggleable__label sk-toggleable__label-arrow\">SVC</label><div class=\"sk-toggleable__content\"><pre>SVC(kernel=&#x27;linear&#x27;)</pre></div></div></div></div></div></div></div>"
      ],
      "text/plain": [
       "Pipeline(steps=[('preprocessing',\n",
       "                 ColumnTransformer(transformers=[('standard', StandardScaler(),\n",
       "                                                  ['Time']),\n",
       "                                                 ('robust', RobustScaler(),\n",
       "                                                  ['Amount']),\n",
       "                                                 ('passthrough', 'passthrough',\n",
       "                                                  ['V3', 'V4', 'V14', 'V16',\n",
       "                                                   'V19', 'V22', 'V24', 'V21',\n",
       "                                                   'V27', 'V6', 'V13', 'V15',\n",
       "                                                   'V23', 'V28', 'V20', 'V26',\n",
       "                                                   'V8'])])),\n",
       "                ('svm', SVC(kernel='linear'))])"
      ]
     },
     "execution_count": 215,
     "metadata": {},
     "output_type": "execute_result"
    }
   ],
   "source": [
    "# train the model\n",
    "svm.fit(transactions, transactions_target)"
   ]
  },
  {
   "cell_type": "code",
   "execution_count": 216,
   "metadata": {
    "id": "1IamU9ij_Owd"
   },
   "outputs": [
    {
     "name": "stdout",
     "output_type": "stream",
     "text": [
      "              precision    recall  f1-score   support\n",
      "\n",
      "   Not Fraud       0.92      0.98      0.95       394\n",
      "       Fraud       0.98      0.91      0.94       381\n",
      "\n",
      "    accuracy                           0.95       775\n",
      "   macro avg       0.95      0.95      0.95       775\n",
      "weighted avg       0.95      0.95      0.95       775\n",
      "\n"
     ]
    }
   ],
   "source": [
    "# calculate evaluation metric using precision and recall\n",
    "\n",
    "svm_predictions = svm.predict(transactions)\n",
    "print(classification_report(transactions_target, svm_predictions, target_names = [\"Not Fraud\", \"Fraud\"]))"
   ]
  },
  {
   "cell_type": "raw",
   "metadata": {},
   "source": [
    "not fraud precision: means out of all predicted normal transactions; 92% are actually normal but 8% of them are fraud (incorrectly labeld as normal)\n",
    "not fraud recall: means out of all actual normal transactions; 98% are predicted correctly but 2% are missed (they are normal but incorrectly predicted as fraud)"
   ]
  },
  {
   "cell_type": "raw",
   "metadata": {
    "id": "6AH0qCMHCzDV"
   },
   "source": [
    "fraud precision: means out of all predicted fraud transactions; 98% are actually fraud but 2% of them are normal (incorrectly labeld as fraud)\n",
    "fraud recall: means out of all actual fraud transactions; 91% are predicted correctly but 9% are missed. (they are fraud but incorrectly predicted as normal)"
   ]
  },
  {
   "cell_type": "code",
   "execution_count": 217,
   "metadata": {},
   "outputs": [
    {
     "name": "stdout",
     "output_type": "stream",
     "text": [
      "Mean CV F1-Score of SVM: 0.9344406220615431\n",
      "Standard Deviation of CV F1-Scores of SVM: 0.018078289179674918\n"
     ]
    }
   ],
   "source": [
    "# cross-validation\n",
    "\n",
    "cv_scores = cross_val_score(svm, transactions, transactions_target, cv=5, scoring='f1')\n",
    "\n",
    "# Calculate mean and standard deviation of cross-validation scores\n",
    "mean_cv_score = cv_scores.mean()\n",
    "std_cv_score = cv_scores.std()\n",
    "\n",
    "# Print mean and standard deviation of cross-validation scores\n",
    "print(\"Mean CV F1-Score of SVM:\", mean_cv_score)\n",
    "print(\"Standard Deviation of CV F1-Scores of SVM:\", std_cv_score)"
   ]
  },
  {
   "cell_type": "markdown",
   "metadata": {
    "id": "fQ3D_4_YKhKG"
   },
   "source": [
    "## 7.4 Decision tree classifier"
   ]
  },
  {
   "cell_type": "code",
   "execution_count": 218,
   "metadata": {
    "id": "TbjYFPM3KgYX"
   },
   "outputs": [],
   "source": [
    "# building the model using pipeline\n",
    "from sklearn.tree import DecisionTreeClassifier\n",
    "\n",
    "tree_cls = Pipeline([\n",
    "    (\"preprocessing\", preprocessing),\n",
    "    (\"tree_classification\", DecisionTreeClassifier()),\n",
    "])"
   ]
  },
  {
   "cell_type": "code",
   "execution_count": 219,
   "metadata": {
    "colab": {
     "base_uri": "https://localhost:8080/",
     "height": 191
    },
    "id": "7a1_6R6iK2Wu",
    "outputId": "0f3259fa-e0ce-4dd9-89e7-17990bae5ce5"
   },
   "outputs": [
    {
     "data": {
      "text/html": [
       "<style>#sk-container-id-14 {color: black;background-color: white;}#sk-container-id-14 pre{padding: 0;}#sk-container-id-14 div.sk-toggleable {background-color: white;}#sk-container-id-14 label.sk-toggleable__label {cursor: pointer;display: block;width: 100%;margin-bottom: 0;padding: 0.3em;box-sizing: border-box;text-align: center;}#sk-container-id-14 label.sk-toggleable__label-arrow:before {content: \"▸\";float: left;margin-right: 0.25em;color: #696969;}#sk-container-id-14 label.sk-toggleable__label-arrow:hover:before {color: black;}#sk-container-id-14 div.sk-estimator:hover label.sk-toggleable__label-arrow:before {color: black;}#sk-container-id-14 div.sk-toggleable__content {max-height: 0;max-width: 0;overflow: hidden;text-align: left;background-color: #f0f8ff;}#sk-container-id-14 div.sk-toggleable__content pre {margin: 0.2em;color: black;border-radius: 0.25em;background-color: #f0f8ff;}#sk-container-id-14 input.sk-toggleable__control:checked~div.sk-toggleable__content {max-height: 200px;max-width: 100%;overflow: auto;}#sk-container-id-14 input.sk-toggleable__control:checked~label.sk-toggleable__label-arrow:before {content: \"▾\";}#sk-container-id-14 div.sk-estimator input.sk-toggleable__control:checked~label.sk-toggleable__label {background-color: #d4ebff;}#sk-container-id-14 div.sk-label input.sk-toggleable__control:checked~label.sk-toggleable__label {background-color: #d4ebff;}#sk-container-id-14 input.sk-hidden--visually {border: 0;clip: rect(1px 1px 1px 1px);clip: rect(1px, 1px, 1px, 1px);height: 1px;margin: -1px;overflow: hidden;padding: 0;position: absolute;width: 1px;}#sk-container-id-14 div.sk-estimator {font-family: monospace;background-color: #f0f8ff;border: 1px dotted black;border-radius: 0.25em;box-sizing: border-box;margin-bottom: 0.5em;}#sk-container-id-14 div.sk-estimator:hover {background-color: #d4ebff;}#sk-container-id-14 div.sk-parallel-item::after {content: \"\";width: 100%;border-bottom: 1px solid gray;flex-grow: 1;}#sk-container-id-14 div.sk-label:hover label.sk-toggleable__label {background-color: #d4ebff;}#sk-container-id-14 div.sk-serial::before {content: \"\";position: absolute;border-left: 1px solid gray;box-sizing: border-box;top: 0;bottom: 0;left: 50%;z-index: 0;}#sk-container-id-14 div.sk-serial {display: flex;flex-direction: column;align-items: center;background-color: white;padding-right: 0.2em;padding-left: 0.2em;position: relative;}#sk-container-id-14 div.sk-item {position: relative;z-index: 1;}#sk-container-id-14 div.sk-parallel {display: flex;align-items: stretch;justify-content: center;background-color: white;position: relative;}#sk-container-id-14 div.sk-item::before, #sk-container-id-14 div.sk-parallel-item::before {content: \"\";position: absolute;border-left: 1px solid gray;box-sizing: border-box;top: 0;bottom: 0;left: 50%;z-index: -1;}#sk-container-id-14 div.sk-parallel-item {display: flex;flex-direction: column;z-index: 1;position: relative;background-color: white;}#sk-container-id-14 div.sk-parallel-item:first-child::after {align-self: flex-end;width: 50%;}#sk-container-id-14 div.sk-parallel-item:last-child::after {align-self: flex-start;width: 50%;}#sk-container-id-14 div.sk-parallel-item:only-child::after {width: 0;}#sk-container-id-14 div.sk-dashed-wrapped {border: 1px dashed gray;margin: 0 0.4em 0.5em 0.4em;box-sizing: border-box;padding-bottom: 0.4em;background-color: white;}#sk-container-id-14 div.sk-label label {font-family: monospace;font-weight: bold;display: inline-block;line-height: 1.2em;}#sk-container-id-14 div.sk-label-container {text-align: center;}#sk-container-id-14 div.sk-container {/* jupyter's `normalize.less` sets `[hidden] { display: none; }` but bootstrap.min.css set `[hidden] { display: none !important; }` so we also need the `!important` here to be able to override the default hidden behavior on the sphinx rendered scikit-learn.org. See: https://github.com/scikit-learn/scikit-learn/issues/21755 */display: inline-block !important;position: relative;}#sk-container-id-14 div.sk-text-repr-fallback {display: none;}</style><div id=\"sk-container-id-14\" class=\"sk-top-container\"><div class=\"sk-text-repr-fallback\"><pre>Pipeline(steps=[(&#x27;preprocessing&#x27;,\n",
       "                 ColumnTransformer(transformers=[(&#x27;standard&#x27;, StandardScaler(),\n",
       "                                                  [&#x27;Time&#x27;]),\n",
       "                                                 (&#x27;robust&#x27;, RobustScaler(),\n",
       "                                                  [&#x27;Amount&#x27;]),\n",
       "                                                 (&#x27;passthrough&#x27;, &#x27;passthrough&#x27;,\n",
       "                                                  [&#x27;V3&#x27;, &#x27;V4&#x27;, &#x27;V14&#x27;, &#x27;V16&#x27;,\n",
       "                                                   &#x27;V19&#x27;, &#x27;V22&#x27;, &#x27;V24&#x27;, &#x27;V21&#x27;,\n",
       "                                                   &#x27;V27&#x27;, &#x27;V6&#x27;, &#x27;V13&#x27;, &#x27;V15&#x27;,\n",
       "                                                   &#x27;V23&#x27;, &#x27;V28&#x27;, &#x27;V20&#x27;, &#x27;V26&#x27;,\n",
       "                                                   &#x27;V8&#x27;])])),\n",
       "                (&#x27;tree_classification&#x27;, DecisionTreeClassifier())])</pre><b>In a Jupyter environment, please rerun this cell to show the HTML representation or trust the notebook. <br />On GitHub, the HTML representation is unable to render, please try loading this page with nbviewer.org.</b></div><div class=\"sk-container\" hidden><div class=\"sk-item sk-dashed-wrapped\"><div class=\"sk-label-container\"><div class=\"sk-label sk-toggleable\"><input class=\"sk-toggleable__control sk-hidden--visually\" id=\"sk-estimator-id-120\" type=\"checkbox\" ><label for=\"sk-estimator-id-120\" class=\"sk-toggleable__label sk-toggleable__label-arrow\">Pipeline</label><div class=\"sk-toggleable__content\"><pre>Pipeline(steps=[(&#x27;preprocessing&#x27;,\n",
       "                 ColumnTransformer(transformers=[(&#x27;standard&#x27;, StandardScaler(),\n",
       "                                                  [&#x27;Time&#x27;]),\n",
       "                                                 (&#x27;robust&#x27;, RobustScaler(),\n",
       "                                                  [&#x27;Amount&#x27;]),\n",
       "                                                 (&#x27;passthrough&#x27;, &#x27;passthrough&#x27;,\n",
       "                                                  [&#x27;V3&#x27;, &#x27;V4&#x27;, &#x27;V14&#x27;, &#x27;V16&#x27;,\n",
       "                                                   &#x27;V19&#x27;, &#x27;V22&#x27;, &#x27;V24&#x27;, &#x27;V21&#x27;,\n",
       "                                                   &#x27;V27&#x27;, &#x27;V6&#x27;, &#x27;V13&#x27;, &#x27;V15&#x27;,\n",
       "                                                   &#x27;V23&#x27;, &#x27;V28&#x27;, &#x27;V20&#x27;, &#x27;V26&#x27;,\n",
       "                                                   &#x27;V8&#x27;])])),\n",
       "                (&#x27;tree_classification&#x27;, DecisionTreeClassifier())])</pre></div></div></div><div class=\"sk-serial\"><div class=\"sk-item sk-dashed-wrapped\"><div class=\"sk-label-container\"><div class=\"sk-label sk-toggleable\"><input class=\"sk-toggleable__control sk-hidden--visually\" id=\"sk-estimator-id-121\" type=\"checkbox\" ><label for=\"sk-estimator-id-121\" class=\"sk-toggleable__label sk-toggleable__label-arrow\">preprocessing: ColumnTransformer</label><div class=\"sk-toggleable__content\"><pre>ColumnTransformer(transformers=[(&#x27;standard&#x27;, StandardScaler(), [&#x27;Time&#x27;]),\n",
       "                                (&#x27;robust&#x27;, RobustScaler(), [&#x27;Amount&#x27;]),\n",
       "                                (&#x27;passthrough&#x27;, &#x27;passthrough&#x27;,\n",
       "                                 [&#x27;V3&#x27;, &#x27;V4&#x27;, &#x27;V14&#x27;, &#x27;V16&#x27;, &#x27;V19&#x27;, &#x27;V22&#x27;, &#x27;V24&#x27;,\n",
       "                                  &#x27;V21&#x27;, &#x27;V27&#x27;, &#x27;V6&#x27;, &#x27;V13&#x27;, &#x27;V15&#x27;, &#x27;V23&#x27;,\n",
       "                                  &#x27;V28&#x27;, &#x27;V20&#x27;, &#x27;V26&#x27;, &#x27;V8&#x27;])])</pre></div></div></div><div class=\"sk-parallel\"><div class=\"sk-parallel-item\"><div class=\"sk-item\"><div class=\"sk-label-container\"><div class=\"sk-label sk-toggleable\"><input class=\"sk-toggleable__control sk-hidden--visually\" id=\"sk-estimator-id-122\" type=\"checkbox\" ><label for=\"sk-estimator-id-122\" class=\"sk-toggleable__label sk-toggleable__label-arrow\">standard</label><div class=\"sk-toggleable__content\"><pre>[&#x27;Time&#x27;]</pre></div></div></div><div class=\"sk-serial\"><div class=\"sk-item\"><div class=\"sk-estimator sk-toggleable\"><input class=\"sk-toggleable__control sk-hidden--visually\" id=\"sk-estimator-id-123\" type=\"checkbox\" ><label for=\"sk-estimator-id-123\" class=\"sk-toggleable__label sk-toggleable__label-arrow\">StandardScaler</label><div class=\"sk-toggleable__content\"><pre>StandardScaler()</pre></div></div></div></div></div></div><div class=\"sk-parallel-item\"><div class=\"sk-item\"><div class=\"sk-label-container\"><div class=\"sk-label sk-toggleable\"><input class=\"sk-toggleable__control sk-hidden--visually\" id=\"sk-estimator-id-124\" type=\"checkbox\" ><label for=\"sk-estimator-id-124\" class=\"sk-toggleable__label sk-toggleable__label-arrow\">robust</label><div class=\"sk-toggleable__content\"><pre>[&#x27;Amount&#x27;]</pre></div></div></div><div class=\"sk-serial\"><div class=\"sk-item\"><div class=\"sk-estimator sk-toggleable\"><input class=\"sk-toggleable__control sk-hidden--visually\" id=\"sk-estimator-id-125\" type=\"checkbox\" ><label for=\"sk-estimator-id-125\" class=\"sk-toggleable__label sk-toggleable__label-arrow\">RobustScaler</label><div class=\"sk-toggleable__content\"><pre>RobustScaler()</pre></div></div></div></div></div></div><div class=\"sk-parallel-item\"><div class=\"sk-item\"><div class=\"sk-label-container\"><div class=\"sk-label sk-toggleable\"><input class=\"sk-toggleable__control sk-hidden--visually\" id=\"sk-estimator-id-126\" type=\"checkbox\" ><label for=\"sk-estimator-id-126\" class=\"sk-toggleable__label sk-toggleable__label-arrow\">passthrough</label><div class=\"sk-toggleable__content\"><pre>[&#x27;V3&#x27;, &#x27;V4&#x27;, &#x27;V14&#x27;, &#x27;V16&#x27;, &#x27;V19&#x27;, &#x27;V22&#x27;, &#x27;V24&#x27;, &#x27;V21&#x27;, &#x27;V27&#x27;, &#x27;V6&#x27;, &#x27;V13&#x27;, &#x27;V15&#x27;, &#x27;V23&#x27;, &#x27;V28&#x27;, &#x27;V20&#x27;, &#x27;V26&#x27;, &#x27;V8&#x27;]</pre></div></div></div><div class=\"sk-serial\"><div class=\"sk-item\"><div class=\"sk-estimator sk-toggleable\"><input class=\"sk-toggleable__control sk-hidden--visually\" id=\"sk-estimator-id-127\" type=\"checkbox\" ><label for=\"sk-estimator-id-127\" class=\"sk-toggleable__label sk-toggleable__label-arrow\">passthrough</label><div class=\"sk-toggleable__content\"><pre>passthrough</pre></div></div></div></div></div></div></div></div><div class=\"sk-item\"><div class=\"sk-estimator sk-toggleable\"><input class=\"sk-toggleable__control sk-hidden--visually\" id=\"sk-estimator-id-128\" type=\"checkbox\" ><label for=\"sk-estimator-id-128\" class=\"sk-toggleable__label sk-toggleable__label-arrow\">DecisionTreeClassifier</label><div class=\"sk-toggleable__content\"><pre>DecisionTreeClassifier()</pre></div></div></div></div></div></div></div>"
      ],
      "text/plain": [
       "Pipeline(steps=[('preprocessing',\n",
       "                 ColumnTransformer(transformers=[('standard', StandardScaler(),\n",
       "                                                  ['Time']),\n",
       "                                                 ('robust', RobustScaler(),\n",
       "                                                  ['Amount']),\n",
       "                                                 ('passthrough', 'passthrough',\n",
       "                                                  ['V3', 'V4', 'V14', 'V16',\n",
       "                                                   'V19', 'V22', 'V24', 'V21',\n",
       "                                                   'V27', 'V6', 'V13', 'V15',\n",
       "                                                   'V23', 'V28', 'V20', 'V26',\n",
       "                                                   'V8'])])),\n",
       "                ('tree_classification', DecisionTreeClassifier())])"
      ]
     },
     "execution_count": 219,
     "metadata": {},
     "output_type": "execute_result"
    }
   ],
   "source": [
    "# train the model\n",
    "tree_cls.fit(transactions, transactions_target)"
   ]
  },
  {
   "cell_type": "code",
   "execution_count": 220,
   "metadata": {
    "colab": {
     "base_uri": "https://localhost:8080/"
    },
    "id": "0qqqRRjpLDoN",
    "outputId": "47e583d3-4ca8-44a5-cda5-bb5a0551cfe8"
   },
   "outputs": [
    {
     "name": "stdout",
     "output_type": "stream",
     "text": [
      "              precision    recall  f1-score   support\n",
      "\n",
      "   Not Fraud       1.00      1.00      1.00       394\n",
      "       Fraud       1.00      1.00      1.00       381\n",
      "\n",
      "    accuracy                           1.00       775\n",
      "   macro avg       1.00      1.00      1.00       775\n",
      "weighted avg       1.00      1.00      1.00       775\n",
      "\n"
     ]
    }
   ],
   "source": [
    "# calculate evaluation metric using precision and recall\n",
    "\n",
    "tree_predictions = tree_cls.predict(transactions)\n",
    "print(classification_report(transactions_target, tree_predictions, target_names = [\"Not Fraud\", \"Fraud\"]))"
   ]
  },
  {
   "cell_type": "code",
   "execution_count": 221,
   "metadata": {
    "id": "chTcfS5QLXkX"
   },
   "outputs": [],
   "source": [
    "# not possible! it's overfitting"
   ]
  },
  {
   "cell_type": "code",
   "execution_count": 222,
   "metadata": {
    "colab": {
     "base_uri": "https://localhost:8080/"
    },
    "id": "Inzkwz1jUawr",
    "outputId": "e2b74f0f-6859-4b44-bdff-be00b006910e"
   },
   "outputs": [
    {
     "name": "stdout",
     "output_type": "stream",
     "text": [
      "Mean CV Score: 0.901025974025974\n",
      "Standard Deviation of CV Scores: 0.02476900119304011\n"
     ]
    }
   ],
   "source": [
    "# cross-validation\n",
    "\n",
    "cv_scores = cross_val_score(tree_cls, transactions, transactions_target, cv=5, scoring='f1')\n",
    "\n",
    "# Calculate mean and standard deviation of cross-validation scores\n",
    "mean_cv_score = cv_scores.mean()\n",
    "std_cv_score = cv_scores.std()\n",
    "\n",
    "# Print mean and standard deviation of cross-validation scores\n",
    "print(\"Mean CV Score:\", mean_cv_score)\n",
    "print(\"Standard Deviation of CV Scores:\", std_cv_score)"
   ]
  },
  {
   "cell_type": "code",
   "execution_count": 223,
   "metadata": {},
   "outputs": [],
   "source": [
    "# by cross validation the decesion tree model is the weakest model"
   ]
  },
  {
   "cell_type": "code",
   "execution_count": 224,
   "metadata": {},
   "outputs": [],
   "source": [
    "# among all models(logistic regression, KNN, SVM, and decesion tree) after cross-validation the best model based on the F1-score is logistic regression"
   ]
  },
  {
   "cell_type": "code",
   "execution_count": 225,
   "metadata": {},
   "outputs": [
    {
     "data": {
      "image/png": "[encoded data removed]",
      "text/plain": [
       "<Figure size 1152x576 with 1 Axes>"
      ]
     },
     "metadata": {
      "needs_background": "light"
     },
     "output_type": "display_data"
    }
   ],
   "source": [
    "# plot ROC carve\n",
    "\n",
    "from sklearn.metrics import roc_curve\n",
    "from sklearn.metrics import roc_auc_score\n",
    "\n",
    "log_fpr, log_tpr, log_thresold = roc_curve(transactions_target, log_predictions)\n",
    "knear_fpr, knear_tpr, knear_threshold = roc_curve(transactions_target, knn_predictions)\n",
    "svc_fpr, svc_tpr, svc_threshold = roc_curve(transactions_target, svm_predictions)\n",
    "tree_fpr, tree_tpr, tree_threshold = roc_curve(transactions_target, tree_predictions)\n",
    "\n",
    "\n",
    "def graph_roc_curve_multiple(log_fpr, log_tpr, knear_fpr, knear_tpr, svc_fpr, svc_tpr, tree_fpr, tree_tpr):\n",
    "    plt.figure(figsize=(16,8))\n",
    "    plt.title('ROC Curve \\n Top 4 Classifiers', fontsize=18)\n",
    "    plt.plot(log_fpr, log_tpr, label='Logistic Regression Classifier Score: {:.4f}'.format(roc_auc_score(transactions_target, log_predictions)))\n",
    "    plt.plot(knear_fpr, knear_tpr, label='KNears Neighbors Classifier Score: {:.4f}'.format(roc_auc_score(transactions_target, knn_predictions)))\n",
    "    plt.plot(svc_fpr, svc_tpr, label='Support Vector Classifier Score: {:.4f}'.format(roc_auc_score(transactions_target, svm_predictions)))\n",
    "    plt.plot(tree_fpr, tree_tpr, label='Decision Tree Classifier Score: {:.4f}'.format(roc_auc_score(transactions_target, tree_predictions)))\n",
    "    plt.plot([0, 1], [0, 1], 'k--')\n",
    "    plt.axis([-0.01, 1, 0, 1])\n",
    "    plt.xlabel('False Positive Rate', fontsize=16)\n",
    "    plt.ylabel('True Positive Rate', fontsize=16)\n",
    "    plt.annotate('Minimum ROC Score of 50% \\n (This is the minimum score to get)', xy=(0.5, 0.5), xytext=(0.6, 0.3),\n",
    "                arrowprops=dict(facecolor='#6E726D', shrink=0.05),\n",
    "                )\n",
    "    plt.legend()\n",
    "    \n",
    "graph_roc_curve_multiple(log_fpr, log_tpr, knear_fpr, knear_tpr, svc_fpr, svc_tpr, tree_fpr, tree_tpr)\n",
    "plt.show()"
   ]
  },
  {
   "cell_type": "markdown",
   "metadata": {},
   "source": [
    "## 8. Fine-tune models"
   ]
  },
  {
   "cell_type": "code",
   "execution_count": 226,
   "metadata": {},
   "outputs": [],
   "source": [
    "# fine-tune the performace model, logistic regression\n",
    "\n",
    "from sklearn.model_selection import GridSearchCV\n",
    "\n",
    "log_reg = Pipeline([\n",
    "    (\"preprocessing\", preprocessing),\n",
    "    (\"logistic_regression\", LogisticRegression()),\n",
    "]) # building the model using pipeline\n",
    "\n",
    "param_grid = [\n",
    "    {\"logistic_regression__penalty\": ['l1', 'l2'], \"logistic_regression__C\": [0.001, 0.01, 0.1, 1, 10, 100, 1000]},\n",
    "  ] # a list of logistic regression model hyperparameters\n",
    "\n",
    "\n",
    "log_grid_search = GridSearchCV(log_reg, param_grid, cv=5, scoring='f1')"
   ]
  },
  {
   "cell_type": "code",
   "execution_count": 227,
   "metadata": {},
   "outputs": [
    {
     "data": {
      "text/html": [
       "<style>#sk-container-id-15 {color: black;background-color: white;}#sk-container-id-15 pre{padding: 0;}#sk-container-id-15 div.sk-toggleable {background-color: white;}#sk-container-id-15 label.sk-toggleable__label {cursor: pointer;display: block;width: 100%;margin-bottom: 0;padding: 0.3em;box-sizing: border-box;text-align: center;}#sk-container-id-15 label.sk-toggleable__label-arrow:before {content: \"▸\";float: left;margin-right: 0.25em;color: #696969;}#sk-container-id-15 label.sk-toggleable__label-arrow:hover:before {color: black;}#sk-container-id-15 div.sk-estimator:hover label.sk-toggleable__label-arrow:before {color: black;}#sk-container-id-15 div.sk-toggleable__content {max-height: 0;max-width: 0;overflow: hidden;text-align: left;background-color: #f0f8ff;}#sk-container-id-15 div.sk-toggleable__content pre {margin: 0.2em;color: black;border-radius: 0.25em;background-color: #f0f8ff;}#sk-container-id-15 input.sk-toggleable__control:checked~div.sk-toggleable__content {max-height: 200px;max-width: 100%;overflow: auto;}#sk-container-id-15 input.sk-toggleable__control:checked~label.sk-toggleable__label-arrow:before {content: \"▾\";}#sk-container-id-15 div.sk-estimator input.sk-toggleable__control:checked~label.sk-toggleable__label {background-color: #d4ebff;}#sk-container-id-15 div.sk-label input.sk-toggleable__control:checked~label.sk-toggleable__label {background-color: #d4ebff;}#sk-container-id-15 input.sk-hidden--visually {border: 0;clip: rect(1px 1px 1px 1px);clip: rect(1px, 1px, 1px, 1px);height: 1px;margin: -1px;overflow: hidden;padding: 0;position: absolute;width: 1px;}#sk-container-id-15 div.sk-estimator {font-family: monospace;background-color: #f0f8ff;border: 1px dotted black;border-radius: 0.25em;box-sizing: border-box;margin-bottom: 0.5em;}#sk-container-id-15 div.sk-estimator:hover {background-color: #d4ebff;}#sk-container-id-15 div.sk-parallel-item::after {content: \"\";width: 100%;border-bottom: 1px solid gray;flex-grow: 1;}#sk-container-id-15 div.sk-label:hover label.sk-toggleable__label {background-color: #d4ebff;}#sk-container-id-15 div.sk-serial::before {content: \"\";position: absolute;border-left: 1px solid gray;box-sizing: border-box;top: 0;bottom: 0;left: 50%;z-index: 0;}#sk-container-id-15 div.sk-serial {display: flex;flex-direction: column;align-items: center;background-color: white;padding-right: 0.2em;padding-left: 0.2em;position: relative;}#sk-container-id-15 div.sk-item {position: relative;z-index: 1;}#sk-container-id-15 div.sk-parallel {display: flex;align-items: stretch;justify-content: center;background-color: white;position: relative;}#sk-container-id-15 div.sk-item::before, #sk-container-id-15 div.sk-parallel-item::before {content: \"\";position: absolute;border-left: 1px solid gray;box-sizing: border-box;top: 0;bottom: 0;left: 50%;z-index: -1;}#sk-container-id-15 div.sk-parallel-item {display: flex;flex-direction: column;z-index: 1;position: relative;background-color: white;}#sk-container-id-15 div.sk-parallel-item:first-child::after {align-self: flex-end;width: 50%;}#sk-container-id-15 div.sk-parallel-item:last-child::after {align-self: flex-start;width: 50%;}#sk-container-id-15 div.sk-parallel-item:only-child::after {width: 0;}#sk-container-id-15 div.sk-dashed-wrapped {border: 1px dashed gray;margin: 0 0.4em 0.5em 0.4em;box-sizing: border-box;padding-bottom: 0.4em;background-color: white;}#sk-container-id-15 div.sk-label label {font-family: monospace;font-weight: bold;display: inline-block;line-height: 1.2em;}#sk-container-id-15 div.sk-label-container {text-align: center;}#sk-container-id-15 div.sk-container {/* jupyter's `normalize.less` sets `[hidden] { display: none; }` but bootstrap.min.css set `[hidden] { display: none !important; }` so we also need the `!important` here to be able to override the default hidden behavior on the sphinx rendered scikit-learn.org. See: https://github.com/scikit-learn/scikit-learn/issues/21755 */display: inline-block !important;position: relative;}#sk-container-id-15 div.sk-text-repr-fallback {display: none;}</style><div id=\"sk-container-id-15\" class=\"sk-top-container\"><div class=\"sk-text-repr-fallback\"><pre>GridSearchCV(cv=5,\n",
       "             estimator=Pipeline(steps=[(&#x27;preprocessing&#x27;,\n",
       "                                        ColumnTransformer(transformers=[(&#x27;standard&#x27;,\n",
       "                                                                         StandardScaler(),\n",
       "                                                                         [&#x27;Time&#x27;]),\n",
       "                                                                        (&#x27;robust&#x27;,\n",
       "                                                                         RobustScaler(),\n",
       "                                                                         [&#x27;Amount&#x27;]),\n",
       "                                                                        (&#x27;passthrough&#x27;,\n",
       "                                                                         &#x27;passthrough&#x27;,\n",
       "                                                                         [&#x27;V3&#x27;,\n",
       "                                                                          &#x27;V4&#x27;,\n",
       "                                                                          &#x27;V14&#x27;,\n",
       "                                                                          &#x27;V16&#x27;,\n",
       "                                                                          &#x27;V19&#x27;,\n",
       "                                                                          &#x27;V22&#x27;,\n",
       "                                                                          &#x27;V24&#x27;,\n",
       "                                                                          &#x27;V21&#x27;,\n",
       "                                                                          &#x27;V27&#x27;,\n",
       "                                                                          &#x27;V6&#x27;,\n",
       "                                                                          &#x27;V13&#x27;,\n",
       "                                                                          &#x27;V15&#x27;,\n",
       "                                                                          &#x27;V23&#x27;,\n",
       "                                                                          &#x27;V28&#x27;,\n",
       "                                                                          &#x27;V20&#x27;,\n",
       "                                                                          &#x27;V26&#x27;,\n",
       "                                                                          &#x27;V8&#x27;])])),\n",
       "                                       (&#x27;logistic_regression&#x27;,\n",
       "                                        LogisticRegression())]),\n",
       "             param_grid=[{&#x27;logistic_regression__C&#x27;: [0.001, 0.01, 0.1, 1, 10,\n",
       "                                                     100, 1000],\n",
       "                          &#x27;logistic_regression__penalty&#x27;: [&#x27;l1&#x27;, &#x27;l2&#x27;]}],\n",
       "             scoring=&#x27;f1&#x27;)</pre><b>In a Jupyter environment, please rerun this cell to show the HTML representation or trust the notebook. <br />On GitHub, the HTML representation is unable to render, please try loading this page with nbviewer.org.</b></div><div class=\"sk-container\" hidden><div class=\"sk-item sk-dashed-wrapped\"><div class=\"sk-label-container\"><div class=\"sk-label sk-toggleable\"><input class=\"sk-toggleable__control sk-hidden--visually\" id=\"sk-estimator-id-129\" type=\"checkbox\" ><label for=\"sk-estimator-id-129\" class=\"sk-toggleable__label sk-toggleable__label-arrow\">GridSearchCV</label><div class=\"sk-toggleable__content\"><pre>GridSearchCV(cv=5,\n",
       "             estimator=Pipeline(steps=[(&#x27;preprocessing&#x27;,\n",
       "                                        ColumnTransformer(transformers=[(&#x27;standard&#x27;,\n",
       "                                                                         StandardScaler(),\n",
       "                                                                         [&#x27;Time&#x27;]),\n",
       "                                                                        (&#x27;robust&#x27;,\n",
       "                                                                         RobustScaler(),\n",
       "                                                                         [&#x27;Amount&#x27;]),\n",
       "                                                                        (&#x27;passthrough&#x27;,\n",
       "                                                                         &#x27;passthrough&#x27;,\n",
       "                                                                         [&#x27;V3&#x27;,\n",
       "                                                                          &#x27;V4&#x27;,\n",
       "                                                                          &#x27;V14&#x27;,\n",
       "                                                                          &#x27;V16&#x27;,\n",
       "                                                                          &#x27;V19&#x27;,\n",
       "                                                                          &#x27;V22&#x27;,\n",
       "                                                                          &#x27;V24&#x27;,\n",
       "                                                                          &#x27;V21&#x27;,\n",
       "                                                                          &#x27;V27&#x27;,\n",
       "                                                                          &#x27;V6&#x27;,\n",
       "                                                                          &#x27;V13&#x27;,\n",
       "                                                                          &#x27;V15&#x27;,\n",
       "                                                                          &#x27;V23&#x27;,\n",
       "                                                                          &#x27;V28&#x27;,\n",
       "                                                                          &#x27;V20&#x27;,\n",
       "                                                                          &#x27;V26&#x27;,\n",
       "                                                                          &#x27;V8&#x27;])])),\n",
       "                                       (&#x27;logistic_regression&#x27;,\n",
       "                                        LogisticRegression())]),\n",
       "             param_grid=[{&#x27;logistic_regression__C&#x27;: [0.001, 0.01, 0.1, 1, 10,\n",
       "                                                     100, 1000],\n",
       "                          &#x27;logistic_regression__penalty&#x27;: [&#x27;l1&#x27;, &#x27;l2&#x27;]}],\n",
       "             scoring=&#x27;f1&#x27;)</pre></div></div></div><div class=\"sk-parallel\"><div class=\"sk-parallel-item\"><div class=\"sk-item\"><div class=\"sk-label-container\"><div class=\"sk-label sk-toggleable\"><input class=\"sk-toggleable__control sk-hidden--visually\" id=\"sk-estimator-id-130\" type=\"checkbox\" ><label for=\"sk-estimator-id-130\" class=\"sk-toggleable__label sk-toggleable__label-arrow\">estimator: Pipeline</label><div class=\"sk-toggleable__content\"><pre>Pipeline(steps=[(&#x27;preprocessing&#x27;,\n",
       "                 ColumnTransformer(transformers=[(&#x27;standard&#x27;, StandardScaler(),\n",
       "                                                  [&#x27;Time&#x27;]),\n",
       "                                                 (&#x27;robust&#x27;, RobustScaler(),\n",
       "                                                  [&#x27;Amount&#x27;]),\n",
       "                                                 (&#x27;passthrough&#x27;, &#x27;passthrough&#x27;,\n",
       "                                                  [&#x27;V3&#x27;, &#x27;V4&#x27;, &#x27;V14&#x27;, &#x27;V16&#x27;,\n",
       "                                                   &#x27;V19&#x27;, &#x27;V22&#x27;, &#x27;V24&#x27;, &#x27;V21&#x27;,\n",
       "                                                   &#x27;V27&#x27;, &#x27;V6&#x27;, &#x27;V13&#x27;, &#x27;V15&#x27;,\n",
       "                                                   &#x27;V23&#x27;, &#x27;V28&#x27;, &#x27;V20&#x27;, &#x27;V26&#x27;,\n",
       "                                                   &#x27;V8&#x27;])])),\n",
       "                (&#x27;logistic_regression&#x27;, LogisticRegression())])</pre></div></div></div><div class=\"sk-serial\"><div class=\"sk-item\"><div class=\"sk-serial\"><div class=\"sk-item sk-dashed-wrapped\"><div class=\"sk-label-container\"><div class=\"sk-label sk-toggleable\"><input class=\"sk-toggleable__control sk-hidden--visually\" id=\"sk-estimator-id-131\" type=\"checkbox\" ><label for=\"sk-estimator-id-131\" class=\"sk-toggleable__label sk-toggleable__label-arrow\">preprocessing: ColumnTransformer</label><div class=\"sk-toggleable__content\"><pre>ColumnTransformer(transformers=[(&#x27;standard&#x27;, StandardScaler(), [&#x27;Time&#x27;]),\n",
       "                                (&#x27;robust&#x27;, RobustScaler(), [&#x27;Amount&#x27;]),\n",
       "                                (&#x27;passthrough&#x27;, &#x27;passthrough&#x27;,\n",
       "                                 [&#x27;V3&#x27;, &#x27;V4&#x27;, &#x27;V14&#x27;, &#x27;V16&#x27;, &#x27;V19&#x27;, &#x27;V22&#x27;, &#x27;V24&#x27;,\n",
       "                                  &#x27;V21&#x27;, &#x27;V27&#x27;, &#x27;V6&#x27;, &#x27;V13&#x27;, &#x27;V15&#x27;, &#x27;V23&#x27;,\n",
       "                                  &#x27;V28&#x27;, &#x27;V20&#x27;, &#x27;V26&#x27;, &#x27;V8&#x27;])])</pre></div></div></div><div class=\"sk-parallel\"><div class=\"sk-parallel-item\"><div class=\"sk-item\"><div class=\"sk-label-container\"><div class=\"sk-label sk-toggleable\"><input class=\"sk-toggleable__control sk-hidden--visually\" id=\"sk-estimator-id-132\" type=\"checkbox\" ><label for=\"sk-estimator-id-132\" class=\"sk-toggleable__label sk-toggleable__label-arrow\">standard</label><div class=\"sk-toggleable__content\"><pre>[&#x27;Time&#x27;]</pre></div></div></div><div class=\"sk-serial\"><div class=\"sk-item\"><div class=\"sk-estimator sk-toggleable\"><input class=\"sk-toggleable__control sk-hidden--visually\" id=\"sk-estimator-id-133\" type=\"checkbox\" ><label for=\"sk-estimator-id-133\" class=\"sk-toggleable__label sk-toggleable__label-arrow\">StandardScaler</label><div class=\"sk-toggleable__content\"><pre>StandardScaler()</pre></div></div></div></div></div></div><div class=\"sk-parallel-item\"><div class=\"sk-item\"><div class=\"sk-label-container\"><div class=\"sk-label sk-toggleable\"><input class=\"sk-toggleable__control sk-hidden--visually\" id=\"sk-estimator-id-134\" type=\"checkbox\" ><label for=\"sk-estimator-id-134\" class=\"sk-toggleable__label sk-toggleable__label-arrow\">robust</label><div class=\"sk-toggleable__content\"><pre>[&#x27;Amount&#x27;]</pre></div></div></div><div class=\"sk-serial\"><div class=\"sk-item\"><div class=\"sk-estimator sk-toggleable\"><input class=\"sk-toggleable__control sk-hidden--visually\" id=\"sk-estimator-id-135\" type=\"checkbox\" ><label for=\"sk-estimator-id-135\" class=\"sk-toggleable__label sk-toggleable__label-arrow\">RobustScaler</label><div class=\"sk-toggleable__content\"><pre>RobustScaler()</pre></div></div></div></div></div></div><div class=\"sk-parallel-item\"><div class=\"sk-item\"><div class=\"sk-label-container\"><div class=\"sk-label sk-toggleable\"><input class=\"sk-toggleable__control sk-hidden--visually\" id=\"sk-estimator-id-136\" type=\"checkbox\" ><label for=\"sk-estimator-id-136\" class=\"sk-toggleable__label sk-toggleable__label-arrow\">passthrough</label><div class=\"sk-toggleable__content\"><pre>[&#x27;V3&#x27;, &#x27;V4&#x27;, &#x27;V14&#x27;, &#x27;V16&#x27;, &#x27;V19&#x27;, &#x27;V22&#x27;, &#x27;V24&#x27;, &#x27;V21&#x27;, &#x27;V27&#x27;, &#x27;V6&#x27;, &#x27;V13&#x27;, &#x27;V15&#x27;, &#x27;V23&#x27;, &#x27;V28&#x27;, &#x27;V20&#x27;, &#x27;V26&#x27;, &#x27;V8&#x27;]</pre></div></div></div><div class=\"sk-serial\"><div class=\"sk-item\"><div class=\"sk-estimator sk-toggleable\"><input class=\"sk-toggleable__control sk-hidden--visually\" id=\"sk-estimator-id-137\" type=\"checkbox\" ><label for=\"sk-estimator-id-137\" class=\"sk-toggleable__label sk-toggleable__label-arrow\">passthrough</label><div class=\"sk-toggleable__content\"><pre>passthrough</pre></div></div></div></div></div></div></div></div><div class=\"sk-item\"><div class=\"sk-estimator sk-toggleable\"><input class=\"sk-toggleable__control sk-hidden--visually\" id=\"sk-estimator-id-138\" type=\"checkbox\" ><label for=\"sk-estimator-id-138\" class=\"sk-toggleable__label sk-toggleable__label-arrow\">LogisticRegression</label><div class=\"sk-toggleable__content\"><pre>LogisticRegression()</pre></div></div></div></div></div></div></div></div></div></div></div></div>"
      ],
      "text/plain": [
       "GridSearchCV(cv=5,\n",
       "             estimator=Pipeline(steps=[('preprocessing',\n",
       "                                        ColumnTransformer(transformers=[('standard',\n",
       "                                                                         StandardScaler(),\n",
       "                                                                         ['Time']),\n",
       "                                                                        ('robust',\n",
       "                                                                         RobustScaler(),\n",
       "                                                                         ['Amount']),\n",
       "                                                                        ('passthrough',\n",
       "                                                                         'passthrough',\n",
       "                                                                         ['V3',\n",
       "                                                                          'V4',\n",
       "                                                                          'V14',\n",
       "                                                                          'V16',\n",
       "                                                                          'V19',\n",
       "                                                                          'V22',\n",
       "                                                                          'V24',\n",
       "                                                                          'V21',\n",
       "                                                                          'V27',\n",
       "                                                                          'V6',\n",
       "                                                                          'V13',\n",
       "                                                                          'V15',\n",
       "                                                                          'V23',\n",
       "                                                                          'V28',\n",
       "                                                                          'V20',\n",
       "                                                                          'V26',\n",
       "                                                                          'V8'])])),\n",
       "                                       ('logistic_regression',\n",
       "                                        LogisticRegression())]),\n",
       "             param_grid=[{'logistic_regression__C': [0.001, 0.01, 0.1, 1, 10,\n",
       "                                                     100, 1000],\n",
       "                          'logistic_regression__penalty': ['l1', 'l2']}],\n",
       "             scoring='f1')"
      ]
     },
     "execution_count": 227,
     "metadata": {},
     "output_type": "execute_result"
    }
   ],
   "source": [
    "# train random logistic regression model with all combinations of hyperparameters\n",
    "# 14 different model, each train 5 times, makes it 70 rounds of training!\n",
    "log_grid_search.fit(transactions, transactions_target)"
   ]
  },
  {
   "cell_type": "code",
   "execution_count": 228,
   "metadata": {},
   "outputs": [
    {
     "name": "stdout",
     "output_type": "stream",
     "text": [
      "nan {'logistic_regression__C': 0.001, 'logistic_regression__penalty': 'l1'}\n",
      "0.9571285566143316 {'logistic_regression__C': 0.001, 'logistic_regression__penalty': 'l2'}\n",
      "nan {'logistic_regression__C': 0.01, 'logistic_regression__penalty': 'l1'}\n",
      "0.9661232891058812 {'logistic_regression__C': 0.01, 'logistic_regression__penalty': 'l2'}\n",
      "nan {'logistic_regression__C': 0.1, 'logistic_regression__penalty': 'l1'}\n",
      "0.9679837324399805 {'logistic_regression__C': 0.1, 'logistic_regression__penalty': 'l2'}\n",
      "nan {'logistic_regression__C': 1, 'logistic_regression__penalty': 'l1'}\n",
      "0.9683952684788988 {'logistic_regression__C': 1, 'logistic_regression__penalty': 'l2'}\n",
      "nan {'logistic_regression__C': 10, 'logistic_regression__penalty': 'l1'}\n",
      "0.9677503176681318 {'logistic_regression__C': 10, 'logistic_regression__penalty': 'l2'}\n",
      "nan {'logistic_regression__C': 100, 'logistic_regression__penalty': 'l1'}\n",
      "0.9670935755315853 {'logistic_regression__C': 100, 'logistic_regression__penalty': 'l2'}\n",
      "nan {'logistic_regression__C': 1000, 'logistic_regression__penalty': 'l1'}\n",
      "0.9670935755315853 {'logistic_regression__C': 1000, 'logistic_regression__penalty': 'l2'}\n"
     ]
    }
   ],
   "source": [
    "# the evaluation scores\n",
    "cvres = log_grid_search.cv_results_\n",
    "for mean_score, params in zip(cvres[\"mean_test_score\"], cvres[\"params\"]):\n",
    "  print(np.sqrt(mean_score), params)"
   ]
  },
  {
   "cell_type": "code",
   "execution_count": 232,
   "metadata": {},
   "outputs": [],
   "source": [
    "# The hyperparameters are  {'logistic_regression__C': 1, 'logistic_regression__penalty': 'l2'} for the logistic regression model\n",
    "# the f1-score is 0.9683952684788988"
   ]
  },
  {
   "cell_type": "markdown",
   "metadata": {},
   "source": [
    "## 9. Evaluate the model on the test set"
   ]
  },
  {
   "cell_type": "code",
   "execution_count": 230,
   "metadata": {},
   "outputs": [],
   "source": [
    "test_target = test.pop(\"Class\") # separate actual values"
   ]
  },
  {
   "cell_type": "code",
   "execution_count": 231,
   "metadata": {},
   "outputs": [
    {
     "name": "stdout",
     "output_type": "stream",
     "text": [
      "              precision    recall  f1-score   support\n",
      "\n",
      "   Not Fraud       1.00      0.96      0.98     56864\n",
      "       Fraud       0.04      0.91      0.07        98\n",
      "\n",
      "    accuracy                           0.96     56962\n",
      "   macro avg       0.52      0.93      0.53     56962\n",
      "weighted avg       1.00      0.96      0.98     56962\n",
      "\n"
     ]
    }
   ],
   "source": [
    "final_model = log_grid_search.best_estimator_ # the previously fine-tuned model\n",
    "test_prediction = final_model.predict(test[cols]) \n",
    "print(classification_report(test_target, test_prediction, target_names = [\"Not Fraud\", \"Fraud\"]))"
   ]
  },
  {
   "cell_type": "raw",
   "metadata": {},
   "source": [
    "not fraud precision: means out of all predicted normal transactions; 100% are actually normal \n",
    "not fraud recall: means out of all actual normal transactions; 96% are predicted correctly but 4% are missed (they are normal but incorrectly predicted as fraud)"
   ]
  },
  {
   "cell_type": "raw",
   "metadata": {},
   "source": [
    "fraud precision: means out of all predicted fraud transactions; 4% are actually fraud but 96% of them are normal (incorrectly labeld as fraud)\n",
    "fraud recall: means out of all actual fraud transactions; 91% are predicted correctly but 9% are missed. (they are fraud but incorrectly predicted as normal)"
   ]
  }
 ],
 "metadata": {
  "colab": {
   "provenance": []
  },
  "kernelspec": {
   "display_name": "Python 3",
   "language": "python",
   "name": "python3"
  },
  "language_info": {
   "codemirror_mode": {
    "name": "ipython",
    "version": 3
   },
   "file_extension": ".py",
   "mimetype": "text/x-python",
   "name": "python",
   "nbconvert_exporter": "python",
   "pygments_lexer": "ipython3",
   "version": "3.8.10"
  }
 },
 "nbformat": 4,
 "nbformat_minor": 4
}
